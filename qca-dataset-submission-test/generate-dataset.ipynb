{
 "cells": [
  {
   "cell_type": "code",
   "execution_count": 1,
   "metadata": {
    "tags": []
   },
   "outputs": [],
   "source": [
    "import os, sys\n",
    "import glob as glob\n",
    "import numpy as np\n",
    "import logging\n",
    "import mdtraj\n",
    "import warnings\n",
    "from pprint import pprint\n",
    "from openff.qcsubmit.common_structures import QCSpec, DriverEnum, SCFProperties\n",
    "from openff.qcsubmit.factories import BasicDatasetFactory\n",
    "from openff.toolkit.topology import Molecule, Topology\n",
    "from tqdm import tqdm"
   ]
  },
  {
   "cell_type": "code",
   "execution_count": 2,
   "metadata": {
    "tags": []
   },
   "outputs": [
    {
     "data": {
      "text/plain": [
       "{'date': '2023-02-27T12:08:52-0800',\n",
       " 'dirty': False,\n",
       " 'error': None,\n",
       " 'full-revisionid': 'e05c876611e40067575bda9c8c47022570e3c508',\n",
       " 'version': '0.12.1'}"
      ]
     },
     "execution_count": 2,
     "metadata": {},
     "output_type": "execute_result"
    }
   ],
   "source": [
    "# check version\n",
    "from openff.toolkit._version import get_versions\n",
    "get_versions()"
   ]
  },
  {
   "cell_type": "markdown",
   "metadata": {},
   "source": [
    "### Inspect molecule"
   ]
  },
  {
   "cell_type": "code",
   "execution_count": 3,
   "metadata": {
    "tags": []
   },
   "outputs": [],
   "source": [
    "def get_bonds(mol):\n",
    "    for bond in mol.bonds:\n",
    "        assert bond.bond_order <= 2\n",
    "        if bond.bond_order == 2:\n",
    "            print(bond.atom1.name, bond.atom2.name, bond.bond_order)"
   ]
  },
  {
   "cell_type": "markdown",
   "metadata": {},
   "source": [
    "##### adenosine"
   ]
  },
  {
   "cell_type": "code",
   "execution_count": 4,
   "metadata": {},
   "outputs": [
    {
     "data": {
      "image/svg+xml": [
       "<svg xmlns=\"http://www.w3.org/2000/svg\" xmlns:rdkit=\"http://www.rdkit.org/xml\" xmlns:xlink=\"http://www.w3.org/1999/xlink\" version=\"1.1\" baseProfile=\"full\" xml:space=\"preserve\" width=\"500px\" height=\"300px\" viewBox=\"0 0 500 300\">\n",
       "<!-- END OF HEADER -->\n",
       "<rect style=\"opacity:1.0;fill:#FFFFFF;stroke:none\" width=\"500.0\" height=\"300.0\" x=\"0.0\" y=\"0.0\"> </rect>\n",
       "<path class=\"bond-0 atom-0 atom-1\" d=\"M 286.0,55.2 L 296.4,88.2\" style=\"fill:none;fill-rule:evenodd;stroke:#000000;stroke-width:2.0px;stroke-linecap:butt;stroke-linejoin:miter;stroke-opacity:1\"/>\n",
       "<path class=\"bond-1 atom-0 atom-17\" d=\"M 286.0,55.2 L 313.0,47.3\" style=\"fill:none;fill-rule:evenodd;stroke:#000000;stroke-width:2.0px;stroke-linecap:butt;stroke-linejoin:miter;stroke-opacity:1\"/>\n",
       "<path class=\"bond-2 atom-0 atom-18\" d=\"M 286.0,55.2 L 292.4,29.7\" style=\"fill:none;fill-rule:evenodd;stroke:#000000;stroke-width:2.0px;stroke-linecap:butt;stroke-linejoin:miter;stroke-opacity:1\"/>\n",
       "<path class=\"bond-3 atom-0 atom-19\" d=\"M 286.0,55.2 L 259.1,48.7\" style=\"fill:none;fill-rule:evenodd;stroke:#000000;stroke-width:2.0px;stroke-linecap:butt;stroke-linejoin:miter;stroke-opacity:1\"/>\n",
       "<path class=\"bond-4 atom-1 atom-2\" d=\"M 296.4,88.2 L 283.3,91.6\" style=\"fill:none;fill-rule:evenodd;stroke:#000000;stroke-width:2.0px;stroke-linecap:butt;stroke-linejoin:miter;stroke-opacity:1\"/>\n",
       "<path class=\"bond-4 atom-1 atom-2\" d=\"M 283.3,91.6 L 270.2,95.0\" style=\"fill:none;fill-rule:evenodd;stroke:#FF0000;stroke-width:2.0px;stroke-linecap:butt;stroke-linejoin:miter;stroke-opacity:1\"/>\n",
       "<path class=\"bond-5 atom-1 atom-3\" d=\"M 296.4,88.2 L 315.2,117.6\" style=\"fill:none;fill-rule:evenodd;stroke:#000000;stroke-width:2.0px;stroke-linecap:butt;stroke-linejoin:miter;stroke-opacity:1\"/>\n",
       "<path class=\"bond-6 atom-1 atom-20\" d=\"M 296.4,88.2 L 319.1,74.6 L 321.3,79.3 Z\" style=\"fill:#000000;fill-rule:evenodd;fill-opacity:1;stroke:#000000;stroke-width:0.5px;stroke-linecap:butt;stroke-linejoin:miter;stroke-opacity:1;\"/>\n",
       "<path class=\"bond-7 atom-2 atom-6\" d=\"M 261.7,105.9 L 261.0,119.0\" style=\"fill:none;fill-rule:evenodd;stroke:#FF0000;stroke-width:2.0px;stroke-linecap:butt;stroke-linejoin:miter;stroke-opacity:1\"/>\n",
       "<path class=\"bond-7 atom-2 atom-6\" d=\"M 261.0,119.0 L 260.2,132.1\" style=\"fill:none;fill-rule:evenodd;stroke:#000000;stroke-width:2.0px;stroke-linecap:butt;stroke-linejoin:miter;stroke-opacity:1\"/>\n",
       "<path class=\"bond-8 atom-3 atom-4\" d=\"M 315.2,117.6 L 324.9,110.5\" style=\"fill:none;fill-rule:evenodd;stroke:#000000;stroke-width:2.0px;stroke-linecap:butt;stroke-linejoin:miter;stroke-opacity:1\"/>\n",
       "<path class=\"bond-8 atom-3 atom-4\" d=\"M 324.9,110.5 L 334.5,103.4\" style=\"fill:none;fill-rule:evenodd;stroke:#FF0000;stroke-width:2.0px;stroke-linecap:butt;stroke-linejoin:miter;stroke-opacity:1\"/>\n",
       "<path class=\"bond-9 atom-3 atom-5\" d=\"M 315.2,117.6 L 293.1,144.8\" style=\"fill:none;fill-rule:evenodd;stroke:#000000;stroke-width:2.0px;stroke-linecap:butt;stroke-linejoin:miter;stroke-opacity:1\"/>\n",
       "<path class=\"bond-10 atom-3 atom-21\" d=\"M 318.1,119.5 L 317.4,120.3\" style=\"fill:none;fill-rule:evenodd;stroke:#000000;stroke-width:1.0px;stroke-linecap:butt;stroke-linejoin:miter;stroke-opacity:1\"/>\n",
       "<path class=\"bond-10 atom-3 atom-21\" d=\"M 320.9,121.4 L 319.5,122.9\" style=\"fill:none;fill-rule:evenodd;stroke:#000000;stroke-width:1.0px;stroke-linecap:butt;stroke-linejoin:miter;stroke-opacity:1\"/>\n",
       "<path class=\"bond-10 atom-3 atom-21\" d=\"M 323.8,123.3 L 321.7,125.6\" style=\"fill:none;fill-rule:evenodd;stroke:#000000;stroke-width:1.0px;stroke-linecap:butt;stroke-linejoin:miter;stroke-opacity:1\"/>\n",
       "<path class=\"bond-10 atom-3 atom-21\" d=\"M 326.6,125.2 L 323.8,128.2\" style=\"fill:none;fill-rule:evenodd;stroke:#000000;stroke-width:1.0px;stroke-linecap:butt;stroke-linejoin:miter;stroke-opacity:1\"/>\n",
       "<path class=\"bond-10 atom-3 atom-21\" d=\"M 329.4,127.0 L 326.0,130.9\" style=\"fill:none;fill-rule:evenodd;stroke:#000000;stroke-width:1.0px;stroke-linecap:butt;stroke-linejoin:miter;stroke-opacity:1\"/>\n",
       "<path class=\"bond-11 atom-4 atom-22\" d=\"M 350.5,101.4 L 358.9,105.4\" style=\"fill:none;fill-rule:evenodd;stroke:#FF0000;stroke-width:2.0px;stroke-linecap:butt;stroke-linejoin:miter;stroke-opacity:1\"/>\n",
       "<path class=\"bond-11 atom-4 atom-22\" d=\"M 358.9,105.4 L 367.3,109.5\" style=\"fill:none;fill-rule:evenodd;stroke:#000000;stroke-width:2.0px;stroke-linecap:butt;stroke-linejoin:miter;stroke-opacity:1\"/>\n",
       "<path class=\"bond-12 atom-5 atom-6\" d=\"M 293.1,144.8 L 260.2,132.1\" style=\"fill:none;fill-rule:evenodd;stroke:#000000;stroke-width:2.0px;stroke-linecap:butt;stroke-linejoin:miter;stroke-opacity:1\"/>\n",
       "<path class=\"bond-13 atom-5 atom-23\" d=\"M 292.7,148.2 L 291.1,147.6\" style=\"fill:none;fill-rule:evenodd;stroke:#000000;stroke-width:1.0px;stroke-linecap:butt;stroke-linejoin:miter;stroke-opacity:1\"/>\n",
       "<path class=\"bond-13 atom-5 atom-23\" d=\"M 292.2,151.6 L 289.0,150.3\" style=\"fill:none;fill-rule:evenodd;stroke:#000000;stroke-width:1.0px;stroke-linecap:butt;stroke-linejoin:miter;stroke-opacity:1\"/>\n",
       "<path class=\"bond-13 atom-5 atom-23\" d=\"M 291.8,155.0 L 287.0,153.0\" style=\"fill:none;fill-rule:evenodd;stroke:#000000;stroke-width:1.0px;stroke-linecap:butt;stroke-linejoin:miter;stroke-opacity:1\"/>\n",
       "<path class=\"bond-14 atom-5 atom-30\" d=\"M 293.1,144.8 L 305.2,153.9\" style=\"fill:none;fill-rule:evenodd;stroke:#000000;stroke-width:2.0px;stroke-linecap:butt;stroke-linejoin:miter;stroke-opacity:1\"/>\n",
       "<path class=\"bond-14 atom-5 atom-30\" d=\"M 305.2,153.9 L 317.2,163.0\" style=\"fill:none;fill-rule:evenodd;stroke:#FF0000;stroke-width:2.0px;stroke-linecap:butt;stroke-linejoin:miter;stroke-opacity:1\"/>\n",
       "<path class=\"bond-15 atom-6 atom-16\" d=\"M 260.2,132.1 L 256.6,143.1\" style=\"fill:none;fill-rule:evenodd;stroke:#000000;stroke-width:2.0px;stroke-linecap:butt;stroke-linejoin:miter;stroke-opacity:1\"/>\n",
       "<path class=\"bond-15 atom-6 atom-16\" d=\"M 256.6,143.1 L 253.0,154.2\" style=\"fill:none;fill-rule:evenodd;stroke:#0000FF;stroke-width:2.0px;stroke-linecap:butt;stroke-linejoin:miter;stroke-opacity:1\"/>\n",
       "<path class=\"bond-16 atom-6 atom-24\" d=\"M 260.2,132.1 L 233.1,129.5 L 234.1,124.4 Z\" style=\"fill:#000000;fill-rule:evenodd;fill-opacity:1;stroke:#000000;stroke-width:0.5px;stroke-linecap:butt;stroke-linejoin:miter;stroke-opacity:1;\"/>\n",
       "<path class=\"bond-17 atom-7 atom-8\" d=\"M 156.2,200.0 L 156.2,186.7\" style=\"fill:none;fill-rule:evenodd;stroke:#0000FF;stroke-width:2.0px;stroke-linecap:butt;stroke-linejoin:miter;stroke-opacity:1\"/>\n",
       "<path class=\"bond-17 atom-7 atom-8\" d=\"M 156.2,186.7 L 156.1,173.5\" style=\"fill:none;fill-rule:evenodd;stroke:#000000;stroke-width:2.0px;stroke-linecap:butt;stroke-linejoin:miter;stroke-opacity:1\"/>\n",
       "<path class=\"bond-17 atom-7 atom-8\" d=\"M 161.4,200.0 L 161.3,188.2\" style=\"fill:none;fill-rule:evenodd;stroke:#0000FF;stroke-width:2.0px;stroke-linecap:butt;stroke-linejoin:miter;stroke-opacity:1\"/>\n",
       "<path class=\"bond-17 atom-7 atom-8\" d=\"M 161.3,188.2 L 161.3,176.5\" style=\"fill:none;fill-rule:evenodd;stroke:#000000;stroke-width:2.0px;stroke-linecap:butt;stroke-linejoin:miter;stroke-opacity:1\"/>\n",
       "<path class=\"bond-18 atom-7 atom-12\" d=\"M 163.0,212.5 L 174.8,219.4\" style=\"fill:none;fill-rule:evenodd;stroke:#0000FF;stroke-width:2.0px;stroke-linecap:butt;stroke-linejoin:miter;stroke-opacity:1\"/>\n",
       "<path class=\"bond-18 atom-7 atom-12\" d=\"M 174.8,219.4 L 186.6,226.2\" style=\"fill:none;fill-rule:evenodd;stroke:#000000;stroke-width:2.0px;stroke-linecap:butt;stroke-linejoin:miter;stroke-opacity:1\"/>\n",
       "<path class=\"bond-19 atom-8 atom-9\" d=\"M 156.1,173.5 L 168.0,166.7\" style=\"fill:none;fill-rule:evenodd;stroke:#000000;stroke-width:2.0px;stroke-linecap:butt;stroke-linejoin:miter;stroke-opacity:1\"/>\n",
       "<path class=\"bond-19 atom-8 atom-9\" d=\"M 168.0,166.7 L 179.8,159.9\" style=\"fill:none;fill-rule:evenodd;stroke:#0000FF;stroke-width:2.0px;stroke-linecap:butt;stroke-linejoin:miter;stroke-opacity:1\"/>\n",
       "<path class=\"bond-20 atom-8 atom-25\" d=\"M 156.1,173.5 L 132.7,160.0\" style=\"fill:none;fill-rule:evenodd;stroke:#000000;stroke-width:2.0px;stroke-linecap:butt;stroke-linejoin:miter;stroke-opacity:1\"/>\n",
       "<path class=\"bond-21 atom-9 atom-10\" d=\"M 193.4,159.9 L 205.2,166.7\" style=\"fill:none;fill-rule:evenodd;stroke:#0000FF;stroke-width:2.0px;stroke-linecap:butt;stroke-linejoin:miter;stroke-opacity:1\"/>\n",
       "<path class=\"bond-21 atom-9 atom-10\" d=\"M 205.2,166.7 L 217.0,173.6\" style=\"fill:none;fill-rule:evenodd;stroke:#000000;stroke-width:2.0px;stroke-linecap:butt;stroke-linejoin:miter;stroke-opacity:1\"/>\n",
       "<path class=\"bond-21 atom-9 atom-10\" d=\"M 190.8,164.4 L 201.3,170.5\" style=\"fill:none;fill-rule:evenodd;stroke:#0000FF;stroke-width:2.0px;stroke-linecap:butt;stroke-linejoin:miter;stroke-opacity:1\"/>\n",
       "<path class=\"bond-21 atom-9 atom-10\" d=\"M 201.3,170.5 L 211.8,176.5\" style=\"fill:none;fill-rule:evenodd;stroke:#000000;stroke-width:2.0px;stroke-linecap:butt;stroke-linejoin:miter;stroke-opacity:1\"/>\n",
       "<path class=\"bond-22 atom-10 atom-11\" d=\"M 217.0,173.6 L 217.0,208.6\" style=\"fill:none;fill-rule:evenodd;stroke:#000000;stroke-width:2.0px;stroke-linecap:butt;stroke-linejoin:miter;stroke-opacity:1\"/>\n",
       "<path class=\"bond-23 atom-10 atom-16\" d=\"M 217.0,173.6 L 230.2,169.3\" style=\"fill:none;fill-rule:evenodd;stroke:#000000;stroke-width:2.0px;stroke-linecap:butt;stroke-linejoin:miter;stroke-opacity:1\"/>\n",
       "<path class=\"bond-23 atom-10 atom-16\" d=\"M 230.2,169.3 L 243.4,165.0\" style=\"fill:none;fill-rule:evenodd;stroke:#0000FF;stroke-width:2.0px;stroke-linecap:butt;stroke-linejoin:miter;stroke-opacity:1\"/>\n",
       "<path class=\"bond-24 atom-11 atom-12\" d=\"M 217.0,208.6 L 186.6,226.2\" style=\"fill:none;fill-rule:evenodd;stroke:#000000;stroke-width:2.0px;stroke-linecap:butt;stroke-linejoin:miter;stroke-opacity:1\"/>\n",
       "<path class=\"bond-24 atom-11 atom-12\" d=\"M 211.9,205.6 L 186.6,220.2\" style=\"fill:none;fill-rule:evenodd;stroke:#000000;stroke-width:2.0px;stroke-linecap:butt;stroke-linejoin:miter;stroke-opacity:1\"/>\n",
       "<path class=\"bond-25 atom-11 atom-14\" d=\"M 217.0,208.6 L 230.3,213.0\" style=\"fill:none;fill-rule:evenodd;stroke:#000000;stroke-width:2.0px;stroke-linecap:butt;stroke-linejoin:miter;stroke-opacity:1\"/>\n",
       "<path class=\"bond-25 atom-11 atom-14\" d=\"M 230.3,213.0 L 243.5,217.3\" style=\"fill:none;fill-rule:evenodd;stroke:#0000FF;stroke-width:2.0px;stroke-linecap:butt;stroke-linejoin:miter;stroke-opacity:1\"/>\n",
       "<path class=\"bond-26 atom-12 atom-13\" d=\"M 186.6,226.2 L 186.6,239.5\" style=\"fill:none;fill-rule:evenodd;stroke:#000000;stroke-width:2.0px;stroke-linecap:butt;stroke-linejoin:miter;stroke-opacity:1\"/>\n",
       "<path class=\"bond-26 atom-12 atom-13\" d=\"M 186.6,239.5 L 186.6,252.7\" style=\"fill:none;fill-rule:evenodd;stroke:#0000FF;stroke-width:2.0px;stroke-linecap:butt;stroke-linejoin:miter;stroke-opacity:1\"/>\n",
       "<path class=\"bond-27 atom-13 atom-26\" d=\"M 193.4,265.2 L 201.7,270.1\" style=\"fill:none;fill-rule:evenodd;stroke:#0000FF;stroke-width:2.0px;stroke-linecap:butt;stroke-linejoin:miter;stroke-opacity:1\"/>\n",
       "<path class=\"bond-27 atom-13 atom-26\" d=\"M 201.7,270.1 L 210.0,274.9\" style=\"fill:none;fill-rule:evenodd;stroke:#000000;stroke-width:2.0px;stroke-linecap:butt;stroke-linejoin:miter;stroke-opacity:1\"/>\n",
       "<path class=\"bond-28 atom-13 atom-27\" d=\"M 179.8,265.2 L 171.5,270.0\" style=\"fill:none;fill-rule:evenodd;stroke:#0000FF;stroke-width:2.0px;stroke-linecap:butt;stroke-linejoin:miter;stroke-opacity:1\"/>\n",
       "<path class=\"bond-28 atom-13 atom-27\" d=\"M 171.5,270.0 L 163.1,274.8\" style=\"fill:none;fill-rule:evenodd;stroke:#000000;stroke-width:2.0px;stroke-linecap:butt;stroke-linejoin:miter;stroke-opacity:1\"/>\n",
       "<path class=\"bond-29 atom-14 atom-15\" d=\"M 256.5,211.0 L 263.7,201.1\" style=\"fill:none;fill-rule:evenodd;stroke:#0000FF;stroke-width:2.0px;stroke-linecap:butt;stroke-linejoin:miter;stroke-opacity:1\"/>\n",
       "<path class=\"bond-29 atom-14 atom-15\" d=\"M 263.7,201.1 L 270.8,191.2\" style=\"fill:none;fill-rule:evenodd;stroke:#000000;stroke-width:2.0px;stroke-linecap:butt;stroke-linejoin:miter;stroke-opacity:1\"/>\n",
       "<path class=\"bond-29 atom-14 atom-15\" d=\"M 252.3,207.9 L 258.4,199.5\" style=\"fill:none;fill-rule:evenodd;stroke:#0000FF;stroke-width:2.0px;stroke-linecap:butt;stroke-linejoin:miter;stroke-opacity:1\"/>\n",
       "<path class=\"bond-29 atom-14 atom-15\" d=\"M 258.4,199.5 L 264.4,191.2\" style=\"fill:none;fill-rule:evenodd;stroke:#000000;stroke-width:2.0px;stroke-linecap:butt;stroke-linejoin:miter;stroke-opacity:1\"/>\n",
       "<path class=\"bond-30 atom-15 atom-16\" d=\"M 270.8,191.2 L 263.6,181.3\" style=\"fill:none;fill-rule:evenodd;stroke:#000000;stroke-width:2.0px;stroke-linecap:butt;stroke-linejoin:miter;stroke-opacity:1\"/>\n",
       "<path class=\"bond-30 atom-15 atom-16\" d=\"M 263.6,181.3 L 256.5,171.4\" style=\"fill:none;fill-rule:evenodd;stroke:#0000FF;stroke-width:2.0px;stroke-linecap:butt;stroke-linejoin:miter;stroke-opacity:1\"/>\n",
       "<path class=\"bond-31 atom-15 atom-28\" d=\"M 270.8,191.2 L 298.9,192.5\" style=\"fill:none;fill-rule:evenodd;stroke:#000000;stroke-width:2.0px;stroke-linecap:butt;stroke-linejoin:miter;stroke-opacity:1\"/>\n",
       "<path class=\"bond-32 atom-29 atom-30\" d=\"M 352.5,160.6 L 342.8,163.6\" style=\"fill:none;fill-rule:evenodd;stroke:#000000;stroke-width:2.0px;stroke-linecap:butt;stroke-linejoin:miter;stroke-opacity:1\"/>\n",
       "<path class=\"bond-32 atom-29 atom-30\" d=\"M 342.8,163.6 L 333.2,166.5\" style=\"fill:none;fill-rule:evenodd;stroke:#FF0000;stroke-width:2.0px;stroke-linecap:butt;stroke-linejoin:miter;stroke-opacity:1\"/>\n",
       "<path class=\"atom-2\" d=\"M 255.4 97.1 Q 255.4 93.5, 257.2 91.5 Q 258.9 89.5, 262.2 89.5 Q 265.5 89.5, 267.3 91.5 Q 269.1 93.5, 269.1 97.1 Q 269.1 100.7, 267.3 102.7 Q 265.5 104.8, 262.2 104.8 Q 258.9 104.8, 257.2 102.7 Q 255.4 100.7, 255.4 97.1 M 262.2 103.1 Q 264.5 103.1, 265.7 101.6 Q 267.0 100.0, 267.0 97.1 Q 267.0 94.1, 265.7 92.7 Q 264.5 91.2, 262.2 91.2 Q 260.0 91.2, 258.7 92.6 Q 257.5 94.1, 257.5 97.1 Q 257.5 100.1, 258.7 101.6 Q 260.0 103.1, 262.2 103.1 \" fill=\"#FF0000\"/>\n",
       "<path class=\"atom-4\" d=\"M 335.6 97.5 Q 335.6 93.9, 337.4 91.9 Q 339.2 89.9, 342.5 89.9 Q 345.8 89.9, 347.6 91.9 Q 349.3 93.9, 349.3 97.5 Q 349.3 101.1, 347.6 103.2 Q 345.8 105.2, 342.5 105.2 Q 339.2 105.2, 337.4 103.2 Q 335.6 101.1, 335.6 97.5 M 342.5 103.5 Q 344.8 103.5, 346.0 102.0 Q 347.2 100.5, 347.2 97.5 Q 347.2 94.6, 346.0 93.1 Q 344.8 91.6, 342.5 91.6 Q 340.2 91.6, 339.0 93.1 Q 337.8 94.5, 337.8 97.5 Q 337.8 100.5, 339.0 102.0 Q 340.2 103.5, 342.5 103.5 \" fill=\"#FF0000\"/>\n",
       "<path class=\"atom-7\" d=\"M 152.9 201.1 L 157.8 209.0 Q 158.3 209.8, 159.1 211.2 Q 159.8 212.6, 159.9 212.7 L 159.9 201.1 L 161.9 201.1 L 161.9 216.1 L 159.8 216.1 L 154.6 207.4 Q 154.0 206.4, 153.3 205.2 Q 152.7 204.1, 152.5 203.7 L 152.5 216.1 L 150.6 216.1 L 150.6 201.1 L 152.9 201.1 \" fill=\"#0000FF\"/>\n",
       "<path class=\"atom-9\" d=\"M 183.3 148.5 L 188.2 156.4 Q 188.7 157.2, 189.5 158.6 Q 190.3 160.0, 190.3 160.1 L 190.3 148.5 L 192.3 148.5 L 192.3 163.5 L 190.2 163.5 L 185.0 154.8 Q 184.4 153.8, 183.7 152.7 Q 183.1 151.5, 182.9 151.1 L 182.9 163.5 L 181.0 163.5 L 181.0 148.5 L 183.3 148.5 \" fill=\"#0000FF\"/>\n",
       "<path class=\"atom-13\" d=\"M 183.3 253.9 L 188.2 261.8 Q 188.7 262.5, 189.4 264.0 Q 190.2 265.4, 190.3 265.5 L 190.3 253.9 L 192.2 253.9 L 192.2 268.8 L 190.2 268.8 L 184.9 260.1 Q 184.3 259.1, 183.7 258.0 Q 183.0 256.8, 182.9 256.5 L 182.9 268.8 L 180.9 268.8 L 180.9 253.9 L 183.3 253.9 \" fill=\"#0000FF\"/>\n",
       "<path class=\"atom-14\" d=\"M 247.0 212.1 L 251.9 220.0 Q 252.3 220.8, 253.1 222.2 Q 253.9 223.6, 254.0 223.7 L 254.0 212.1 L 255.9 212.1 L 255.9 227.0 L 253.9 227.0 L 248.6 218.4 Q 248.0 217.4, 247.4 216.2 Q 246.7 215.0, 246.6 214.7 L 246.6 227.0 L 244.6 227.0 L 244.6 212.1 L 247.0 212.1 \" fill=\"#0000FF\"/>\n",
       "<path class=\"atom-16\" d=\"M 246.9 155.3 L 251.8 163.2 Q 252.3 164.0, 253.1 165.4 Q 253.9 166.8, 253.9 166.9 L 253.9 155.3 L 255.9 155.3 L 255.9 170.3 L 253.9 170.3 L 248.6 161.6 Q 248.0 160.6, 247.3 159.5 Q 246.7 158.3, 246.5 157.9 L 246.5 170.3 L 244.6 170.3 L 244.6 155.3 L 246.9 155.3 \" fill=\"#0000FF\"/>\n",
       "<path class=\"atom-17\" d=\"M 314.1 37.8 L 316.1 37.8 L 316.1 44.1 L 323.8 44.1 L 323.8 37.8 L 325.8 37.8 L 325.8 52.7 L 323.8 52.7 L 323.8 45.8 L 316.1 45.8 L 316.1 52.7 L 314.1 52.7 L 314.1 37.8 \" fill=\"#000000\"/>\n",
       "<path class=\"atom-18\" d=\"M 288.8 13.6 L 290.8 13.6 L 290.8 20.0 L 298.4 20.0 L 298.4 13.6 L 300.4 13.6 L 300.4 28.6 L 298.4 28.6 L 298.4 21.7 L 290.8 21.7 L 290.8 28.6 L 288.8 28.6 L 288.8 13.6 \" fill=\"#000000\"/>\n",
       "<path class=\"atom-19\" d=\"M 246.3 39.5 L 248.3 39.5 L 248.3 45.9 L 255.9 45.9 L 255.9 39.5 L 258.0 39.5 L 258.0 54.5 L 255.9 54.5 L 255.9 47.6 L 248.3 47.6 L 248.3 54.5 L 246.3 54.5 L 246.3 39.5 \" fill=\"#000000\"/>\n",
       "<path class=\"atom-20\" d=\"M 322.5 65.6 L 324.5 65.6 L 324.5 72.0 L 332.1 72.0 L 332.1 65.6 L 334.1 65.6 L 334.1 80.6 L 332.1 80.6 L 332.1 73.7 L 324.5 73.7 L 324.5 80.6 L 322.5 80.6 L 322.5 65.6 \" fill=\"#000000\"/>\n",
       "<path class=\"atom-21\" d=\"M 330.0 128.9 L 332.0 128.9 L 332.0 135.2 L 339.6 135.2 L 339.6 128.9 L 341.7 128.9 L 341.7 143.8 L 339.6 143.8 L 339.6 136.9 L 332.0 136.9 L 332.0 143.8 L 330.0 143.8 L 330.0 128.9 \" fill=\"#000000\"/>\n",
       "<path class=\"atom-22\" d=\"M 368.4 105.5 L 370.4 105.5 L 370.4 111.8 L 378.0 111.8 L 378.0 105.5 L 380.1 105.5 L 380.1 120.4 L 378.0 120.4 L 378.0 113.5 L 370.4 113.5 L 370.4 120.4 L 368.4 120.4 L 368.4 105.5 \" fill=\"#000000\"/>\n",
       "<path class=\"atom-23\" d=\"M 279.7 156.3 L 281.7 156.3 L 281.7 162.6 L 289.3 162.6 L 289.3 156.3 L 291.3 156.3 L 291.3 171.2 L 289.3 171.2 L 289.3 164.3 L 281.7 164.3 L 281.7 171.2 L 279.7 171.2 L 279.7 156.3 \" fill=\"#000000\"/>\n",
       "<path class=\"atom-24\" d=\"M 219.6 117.9 L 221.7 117.9 L 221.7 124.3 L 229.3 124.3 L 229.3 117.9 L 231.3 117.9 L 231.3 132.9 L 229.3 132.9 L 229.3 126.0 L 221.7 126.0 L 221.7 132.9 L 219.6 132.9 L 219.6 117.9 \" fill=\"#000000\"/>\n",
       "<path class=\"atom-25\" d=\"M 119.9 148.5 L 122.0 148.5 L 122.0 154.8 L 129.6 154.8 L 129.6 148.5 L 131.6 148.5 L 131.6 163.4 L 129.6 163.4 L 129.6 156.5 L 122.0 156.5 L 122.0 163.4 L 119.9 163.4 L 119.9 148.5 \" fill=\"#000000\"/>\n",
       "<path class=\"atom-26\" d=\"M 211.2 271.4 L 213.2 271.4 L 213.2 277.8 L 220.8 277.8 L 220.8 271.4 L 222.8 271.4 L 222.8 286.4 L 220.8 286.4 L 220.8 279.5 L 213.2 279.5 L 213.2 286.4 L 211.2 286.4 L 211.2 271.4 \" fill=\"#000000\"/>\n",
       "<path class=\"atom-27\" d=\"M 150.3 271.4 L 152.3 271.4 L 152.3 277.8 L 160.0 277.8 L 160.0 271.4 L 162.0 271.4 L 162.0 286.3 L 160.0 286.3 L 160.0 279.4 L 152.3 279.4 L 152.3 286.3 L 150.3 286.3 L 150.3 271.4 \" fill=\"#000000\"/>\n",
       "<path class=\"atom-28\" d=\"M 300.1 185.3 L 302.1 185.3 L 302.1 191.7 L 309.7 191.7 L 309.7 185.3 L 311.8 185.3 L 311.8 200.2 L 309.7 200.2 L 309.7 193.3 L 302.1 193.3 L 302.1 200.2 L 300.1 200.2 L 300.1 185.3 \" fill=\"#000000\"/>\n",
       "<path class=\"atom-29\" d=\"M 353.6 151.0 L 355.6 151.0 L 355.6 157.3 L 363.3 157.3 L 363.3 151.0 L 365.3 151.0 L 365.3 165.9 L 363.3 165.9 L 363.3 159.0 L 355.6 159.0 L 355.6 165.9 L 353.6 165.9 L 353.6 151.0 \" fill=\"#000000\"/>\n",
       "<path class=\"atom-30\" d=\"M 318.4 169.0 Q 318.4 165.4, 320.1 163.4 Q 321.9 161.4, 325.2 161.4 Q 328.5 161.4, 330.3 163.4 Q 332.1 165.4, 332.1 169.0 Q 332.1 172.7, 330.3 174.7 Q 328.5 176.8, 325.2 176.8 Q 321.9 176.8, 320.1 174.7 Q 318.4 172.7, 318.4 169.0 M 325.2 175.1 Q 327.5 175.1, 328.7 173.6 Q 330.0 172.0, 330.0 169.0 Q 330.0 166.1, 328.7 164.6 Q 327.5 163.1, 325.2 163.1 Q 322.9 163.1, 321.7 164.6 Q 320.5 166.1, 320.5 169.0 Q 320.5 172.0, 321.7 173.6 Q 322.9 175.1, 325.2 175.1 \" fill=\"#FF0000\"/>\n",
       "</svg>"
      ],
      "text/plain": [
       "<IPython.core.display.SVG object>"
      ]
     },
     "execution_count": 4,
     "metadata": {},
     "output_type": "execute_result"
    }
   ],
   "source": [
    "traj = mdtraj.load(\"../cluster/traj_cls_a.nc\", top=\"../md/crd/a.pdb\")\n",
    "unique_molecules = Molecule.from_file(\"../md/crd/a.sdf\")\n",
    "topology = Topology.from_openmm(traj[0].topology.to_openmm(), unique_molecules=[unique_molecules])\n",
    "mol = Molecule.from_topology(topology)\n",
    "mol.visualize()"
   ]
  },
  {
   "cell_type": "code",
   "execution_count": 5,
   "metadata": {
    "tags": []
   },
   "outputs": [
    {
     "data": {
      "application/vnd.jupyter.widget-view+json": {
       "model_id": "d466b2c848b747848d6e2025199f76e9",
       "version_major": 2,
       "version_minor": 0
      },
      "text/plain": []
     },
     "metadata": {},
     "output_type": "display_data"
    },
    {
     "data": {
      "application/vnd.jupyter.widget-view+json": {
       "model_id": "5c7e8fdb2a5a409693a7933884d4ab3b",
       "version_major": 2,
       "version_minor": 0
      },
      "text/plain": [
       "NGLWidget()"
      ]
     },
     "metadata": {},
     "output_type": "display_data"
    }
   ],
   "source": [
    "mol"
   ]
  },
  {
   "cell_type": "code",
   "execution_count": 6,
   "metadata": {
    "tags": []
   },
   "outputs": [
    {
     "name": "stdout",
     "output_type": "stream",
     "text": [
      "N1 C2 2\n",
      "N3 C4 2\n",
      "C5 C6 2\n",
      "N7 C8 2\n"
     ]
    }
   ],
   "source": [
    "get_bonds(mol)"
   ]
  },
  {
   "cell_type": "markdown",
   "metadata": {},
   "source": [
    "##### cytidine"
   ]
  },
  {
   "cell_type": "code",
   "execution_count": 7,
   "metadata": {
    "tags": []
   },
   "outputs": [
    {
     "data": {
      "image/svg+xml": [
       "<svg xmlns=\"http://www.w3.org/2000/svg\" xmlns:rdkit=\"http://www.rdkit.org/xml\" xmlns:xlink=\"http://www.w3.org/1999/xlink\" version=\"1.1\" baseProfile=\"full\" xml:space=\"preserve\" width=\"500px\" height=\"300px\" viewBox=\"0 0 500 300\">\n",
       "<!-- END OF HEADER -->\n",
       "<rect style=\"opacity:1.0;fill:#FFFFFF;stroke:none\" width=\"500.0\" height=\"300.0\" x=\"0.0\" y=\"0.0\"> </rect>\n",
       "<path class=\"bond-0 atom-0 atom-1\" d=\"M 401.0,66.2 L 379.2,111.5\" style=\"fill:none;fill-rule:evenodd;stroke:#000000;stroke-width:2.0px;stroke-linecap:butt;stroke-linejoin:miter;stroke-opacity:1\"/>\n",
       "<path class=\"bond-1 atom-0 atom-15\" d=\"M 401.0,66.2 L 436.3,83.5\" style=\"fill:none;fill-rule:evenodd;stroke:#000000;stroke-width:2.0px;stroke-linecap:butt;stroke-linejoin:miter;stroke-opacity:1\"/>\n",
       "<path class=\"bond-2 atom-0 atom-16\" d=\"M 401.0,66.2 L 432.9,44.9\" style=\"fill:none;fill-rule:evenodd;stroke:#000000;stroke-width:2.0px;stroke-linecap:butt;stroke-linejoin:miter;stroke-opacity:1\"/>\n",
       "<path class=\"bond-3 atom-0 atom-17\" d=\"M 401.0,66.2 L 381.3,36.8\" style=\"fill:none;fill-rule:evenodd;stroke:#000000;stroke-width:2.0px;stroke-linecap:butt;stroke-linejoin:miter;stroke-opacity:1\"/>\n",
       "<path class=\"bond-4 atom-1 atom-2\" d=\"M 379.2,111.5 L 363.2,101.9\" style=\"fill:none;fill-rule:evenodd;stroke:#000000;stroke-width:2.0px;stroke-linecap:butt;stroke-linejoin:miter;stroke-opacity:1\"/>\n",
       "<path class=\"bond-4 atom-1 atom-2\" d=\"M 363.2,101.9 L 347.3,92.4\" style=\"fill:none;fill-rule:evenodd;stroke:#FF0000;stroke-width:2.0px;stroke-linecap:butt;stroke-linejoin:miter;stroke-opacity:1\"/>\n",
       "<path class=\"bond-5 atom-1 atom-3\" d=\"M 379.2,111.5 L 367.7,160.6\" style=\"fill:none;fill-rule:evenodd;stroke:#000000;stroke-width:2.0px;stroke-linecap:butt;stroke-linejoin:miter;stroke-opacity:1\"/>\n",
       "<path class=\"bond-6 atom-1 atom-18\" d=\"M 379.2,111.5 L 416.5,120.3 L 414.0,127.5 Z\" style=\"fill:#000000;fill-rule:evenodd;fill-opacity:1;stroke:#000000;stroke-width:0.5px;stroke-linecap:butt;stroke-linejoin:miter;stroke-opacity:1;\"/>\n",
       "<path class=\"bond-7 atom-2 atom-6\" d=\"M 324.3,95.4 L 311.0,106.9\" style=\"fill:none;fill-rule:evenodd;stroke:#FF0000;stroke-width:2.0px;stroke-linecap:butt;stroke-linejoin:miter;stroke-opacity:1\"/>\n",
       "<path class=\"bond-7 atom-2 atom-6\" d=\"M 311.0,106.9 L 297.7,118.4\" style=\"fill:none;fill-rule:evenodd;stroke:#000000;stroke-width:2.0px;stroke-linecap:butt;stroke-linejoin:miter;stroke-opacity:1\"/>\n",
       "<path class=\"bond-8 atom-3 atom-4\" d=\"M 367.7,160.6 L 386.7,163.1\" style=\"fill:none;fill-rule:evenodd;stroke:#000000;stroke-width:2.0px;stroke-linecap:butt;stroke-linejoin:miter;stroke-opacity:1\"/>\n",
       "<path class=\"bond-8 atom-3 atom-4\" d=\"M 386.7,163.1 L 405.8,165.6\" style=\"fill:none;fill-rule:evenodd;stroke:#FF0000;stroke-width:2.0px;stroke-linecap:butt;stroke-linejoin:miter;stroke-opacity:1\"/>\n",
       "<path class=\"bond-9 atom-3 atom-5\" d=\"M 367.7,160.6 L 317.3,165.0\" style=\"fill:none;fill-rule:evenodd;stroke:#000000;stroke-width:2.0px;stroke-linecap:butt;stroke-linejoin:miter;stroke-opacity:1\"/>\n",
       "<path class=\"bond-10 atom-3 atom-19\" d=\"M 368.1,164.3 L 367.3,164.3\" style=\"fill:none;fill-rule:evenodd;stroke:#000000;stroke-width:1.0px;stroke-linecap:butt;stroke-linejoin:miter;stroke-opacity:1\"/>\n",
       "<path class=\"bond-10 atom-3 atom-19\" d=\"M 368.5,168.0 L 366.9,168.0\" style=\"fill:none;fill-rule:evenodd;stroke:#000000;stroke-width:1.0px;stroke-linecap:butt;stroke-linejoin:miter;stroke-opacity:1\"/>\n",
       "<path class=\"bond-10 atom-3 atom-19\" d=\"M 368.9,171.7 L 366.6,171.7\" style=\"fill:none;fill-rule:evenodd;stroke:#000000;stroke-width:1.0px;stroke-linecap:butt;stroke-linejoin:miter;stroke-opacity:1\"/>\n",
       "<path class=\"bond-10 atom-3 atom-19\" d=\"M 369.3,175.3 L 366.2,175.4\" style=\"fill:none;fill-rule:evenodd;stroke:#000000;stroke-width:1.0px;stroke-linecap:butt;stroke-linejoin:miter;stroke-opacity:1\"/>\n",
       "<path class=\"bond-10 atom-3 atom-19\" d=\"M 369.7,179.0 L 365.8,179.0\" style=\"fill:none;fill-rule:evenodd;stroke:#000000;stroke-width:1.0px;stroke-linecap:butt;stroke-linejoin:miter;stroke-opacity:1\"/>\n",
       "<path class=\"bond-10 atom-3 atom-19\" d=\"M 370.1,182.7 L 365.5,182.7\" style=\"fill:none;fill-rule:evenodd;stroke:#000000;stroke-width:1.0px;stroke-linecap:butt;stroke-linejoin:miter;stroke-opacity:1\"/>\n",
       "<path class=\"bond-10 atom-3 atom-19\" d=\"M 370.5,186.4 L 365.1,186.4\" style=\"fill:none;fill-rule:evenodd;stroke:#000000;stroke-width:1.0px;stroke-linecap:butt;stroke-linejoin:miter;stroke-opacity:1\"/>\n",
       "<path class=\"bond-10 atom-3 atom-19\" d=\"M 370.9,190.0 L 364.8,190.1\" style=\"fill:none;fill-rule:evenodd;stroke:#000000;stroke-width:1.0px;stroke-linecap:butt;stroke-linejoin:miter;stroke-opacity:1\"/>\n",
       "<path class=\"bond-10 atom-3 atom-19\" d=\"M 371.3,193.7 L 364.4,193.7\" style=\"fill:none;fill-rule:evenodd;stroke:#000000;stroke-width:1.0px;stroke-linecap:butt;stroke-linejoin:miter;stroke-opacity:1\"/>\n",
       "<path class=\"bond-10 atom-3 atom-19\" d=\"M 371.7,197.4 L 364.0,197.4\" style=\"fill:none;fill-rule:evenodd;stroke:#000000;stroke-width:1.0px;stroke-linecap:butt;stroke-linejoin:miter;stroke-opacity:1\"/>\n",
       "<path class=\"bond-11 atom-4 atom-20\" d=\"M 422.5,180.0 L 426.9,190.7\" style=\"fill:none;fill-rule:evenodd;stroke:#FF0000;stroke-width:2.0px;stroke-linecap:butt;stroke-linejoin:miter;stroke-opacity:1\"/>\n",
       "<path class=\"bond-11 atom-4 atom-20\" d=\"M 426.9,190.7 L 431.3,201.5\" style=\"fill:none;fill-rule:evenodd;stroke:#000000;stroke-width:2.0px;stroke-linecap:butt;stroke-linejoin:miter;stroke-opacity:1\"/>\n",
       "<path class=\"bond-12 atom-5 atom-6\" d=\"M 317.3,165.0 L 297.7,118.4\" style=\"fill:none;fill-rule:evenodd;stroke:#000000;stroke-width:2.0px;stroke-linecap:butt;stroke-linejoin:miter;stroke-opacity:1\"/>\n",
       "<path class=\"bond-13 atom-5 atom-21\" d=\"M 313.9,166.3 L 313.7,165.5\" style=\"fill:none;fill-rule:evenodd;stroke:#000000;stroke-width:1.0px;stroke-linecap:butt;stroke-linejoin:miter;stroke-opacity:1\"/>\n",
       "<path class=\"bond-13 atom-5 atom-21\" d=\"M 310.6,167.5 L 310.2,166.1\" style=\"fill:none;fill-rule:evenodd;stroke:#000000;stroke-width:1.0px;stroke-linecap:butt;stroke-linejoin:miter;stroke-opacity:1\"/>\n",
       "<path class=\"bond-13 atom-5 atom-21\" d=\"M 307.2,168.8 L 306.6,166.6\" style=\"fill:none;fill-rule:evenodd;stroke:#000000;stroke-width:1.0px;stroke-linecap:butt;stroke-linejoin:miter;stroke-opacity:1\"/>\n",
       "<path class=\"bond-13 atom-5 atom-21\" d=\"M 303.8,170.1 L 303.1,167.1\" style=\"fill:none;fill-rule:evenodd;stroke:#000000;stroke-width:1.0px;stroke-linecap:butt;stroke-linejoin:miter;stroke-opacity:1\"/>\n",
       "<path class=\"bond-13 atom-5 atom-21\" d=\"M 300.5,171.4 L 299.5,167.6\" style=\"fill:none;fill-rule:evenodd;stroke:#000000;stroke-width:1.0px;stroke-linecap:butt;stroke-linejoin:miter;stroke-opacity:1\"/>\n",
       "<path class=\"bond-13 atom-5 atom-21\" d=\"M 297.1,172.6 L 296.0,168.2\" style=\"fill:none;fill-rule:evenodd;stroke:#000000;stroke-width:1.0px;stroke-linecap:butt;stroke-linejoin:miter;stroke-opacity:1\"/>\n",
       "<path class=\"bond-13 atom-5 atom-21\" d=\"M 293.8,173.9 L 292.4,168.7\" style=\"fill:none;fill-rule:evenodd;stroke:#000000;stroke-width:1.0px;stroke-linecap:butt;stroke-linejoin:miter;stroke-opacity:1\"/>\n",
       "<path class=\"bond-13 atom-5 atom-21\" d=\"M 290.4,175.2 L 288.8,169.2\" style=\"fill:none;fill-rule:evenodd;stroke:#000000;stroke-width:1.0px;stroke-linecap:butt;stroke-linejoin:miter;stroke-opacity:1\"/>\n",
       "<path class=\"bond-13 atom-5 atom-21\" d=\"M 287.0,176.4 L 285.3,169.8\" style=\"fill:none;fill-rule:evenodd;stroke:#000000;stroke-width:1.0px;stroke-linecap:butt;stroke-linejoin:miter;stroke-opacity:1\"/>\n",
       "<path class=\"bond-13 atom-5 atom-21\" d=\"M 283.7,177.7 L 281.7,170.3\" style=\"fill:none;fill-rule:evenodd;stroke:#000000;stroke-width:1.0px;stroke-linecap:butt;stroke-linejoin:miter;stroke-opacity:1\"/>\n",
       "<path class=\"bond-14 atom-5 atom-28\" d=\"M 317.3,165.0 L 321.5,185.5\" style=\"fill:none;fill-rule:evenodd;stroke:#000000;stroke-width:2.0px;stroke-linecap:butt;stroke-linejoin:miter;stroke-opacity:1\"/>\n",
       "<path class=\"bond-14 atom-5 atom-28\" d=\"M 321.5,185.5 L 325.6,206.0\" style=\"fill:none;fill-rule:evenodd;stroke:#FF0000;stroke-width:2.0px;stroke-linecap:butt;stroke-linejoin:miter;stroke-opacity:1\"/>\n",
       "<path class=\"bond-15 atom-6 atom-7\" d=\"M 297.7,118.4 L 268.6,131.7\" style=\"fill:none;fill-rule:evenodd;stroke:#000000;stroke-width:2.0px;stroke-linecap:butt;stroke-linejoin:miter;stroke-opacity:1\"/>\n",
       "<path class=\"bond-15 atom-6 atom-7\" d=\"M 268.6,131.7 L 239.6,144.9\" style=\"fill:none;fill-rule:evenodd;stroke:#0000FF;stroke-width:2.0px;stroke-linecap:butt;stroke-linejoin:miter;stroke-opacity:1\"/>\n",
       "<path class=\"bond-16 atom-6 atom-22\" d=\"M 297.7,118.4 L 276.2,92.1 L 282.7,87.9 Z\" style=\"fill:#000000;fill-rule:evenodd;fill-opacity:1;stroke:#000000;stroke-width:0.5px;stroke-linecap:butt;stroke-linejoin:miter;stroke-opacity:1;\"/>\n",
       "<path class=\"bond-17 atom-7 atom-8\" d=\"M 219.9,143.6 L 203.0,133.7\" style=\"fill:none;fill-rule:evenodd;stroke:#0000FF;stroke-width:2.0px;stroke-linecap:butt;stroke-linejoin:miter;stroke-opacity:1\"/>\n",
       "<path class=\"bond-17 atom-7 atom-8\" d=\"M 203.0,133.7 L 186.1,123.8\" style=\"fill:none;fill-rule:evenodd;stroke:#000000;stroke-width:2.0px;stroke-linecap:butt;stroke-linejoin:miter;stroke-opacity:1\"/>\n",
       "<path class=\"bond-18 atom-7 atom-14\" d=\"M 229.6,161.8 L 229.5,180.8\" style=\"fill:none;fill-rule:evenodd;stroke:#0000FF;stroke-width:2.0px;stroke-linecap:butt;stroke-linejoin:miter;stroke-opacity:1\"/>\n",
       "<path class=\"bond-18 atom-7 atom-14\" d=\"M 229.5,180.8 L 229.4,199.8\" style=\"fill:none;fill-rule:evenodd;stroke:#000000;stroke-width:2.0px;stroke-linecap:butt;stroke-linejoin:miter;stroke-opacity:1\"/>\n",
       "<path class=\"bond-19 atom-8 atom-9\" d=\"M 190.0,126.1 L 189.9,106.2\" style=\"fill:none;fill-rule:evenodd;stroke:#000000;stroke-width:2.0px;stroke-linecap:butt;stroke-linejoin:miter;stroke-opacity:1\"/>\n",
       "<path class=\"bond-19 atom-8 atom-9\" d=\"M 189.9,106.2 L 189.8,86.3\" style=\"fill:none;fill-rule:evenodd;stroke:#FF0000;stroke-width:2.0px;stroke-linecap:butt;stroke-linejoin:miter;stroke-opacity:1\"/>\n",
       "<path class=\"bond-19 atom-8 atom-9\" d=\"M 182.3,126.0 L 182.2,106.2\" style=\"fill:none;fill-rule:evenodd;stroke:#000000;stroke-width:2.0px;stroke-linecap:butt;stroke-linejoin:miter;stroke-opacity:1\"/>\n",
       "<path class=\"bond-19 atom-8 atom-9\" d=\"M 182.2,106.2 L 182.2,86.3\" style=\"fill:none;fill-rule:evenodd;stroke:#FF0000;stroke-width:2.0px;stroke-linecap:butt;stroke-linejoin:miter;stroke-opacity:1\"/>\n",
       "<path class=\"bond-20 atom-8 atom-10\" d=\"M 186.1,123.8 L 169.0,133.6\" style=\"fill:none;fill-rule:evenodd;stroke:#000000;stroke-width:2.0px;stroke-linecap:butt;stroke-linejoin:miter;stroke-opacity:1\"/>\n",
       "<path class=\"bond-20 atom-8 atom-10\" d=\"M 169.0,133.6 L 152.0,143.3\" style=\"fill:none;fill-rule:evenodd;stroke:#0000FF;stroke-width:2.0px;stroke-linecap:butt;stroke-linejoin:miter;stroke-opacity:1\"/>\n",
       "<path class=\"bond-21 atom-10 atom-11\" d=\"M 142.0,161.3 L 141.9,180.4\" style=\"fill:none;fill-rule:evenodd;stroke:#0000FF;stroke-width:2.0px;stroke-linecap:butt;stroke-linejoin:miter;stroke-opacity:1\"/>\n",
       "<path class=\"bond-21 atom-10 atom-11\" d=\"M 141.9,180.4 L 141.7,199.4\" style=\"fill:none;fill-rule:evenodd;stroke:#000000;stroke-width:2.0px;stroke-linecap:butt;stroke-linejoin:miter;stroke-opacity:1\"/>\n",
       "<path class=\"bond-21 atom-10 atom-11\" d=\"M 149.7,161.4 L 149.6,178.2\" style=\"fill:none;fill-rule:evenodd;stroke:#0000FF;stroke-width:2.0px;stroke-linecap:butt;stroke-linejoin:miter;stroke-opacity:1\"/>\n",
       "<path class=\"bond-21 atom-10 atom-11\" d=\"M 149.6,178.2 L 149.5,195.0\" style=\"fill:none;fill-rule:evenodd;stroke:#000000;stroke-width:2.0px;stroke-linecap:butt;stroke-linejoin:miter;stroke-opacity:1\"/>\n",
       "<path class=\"bond-22 atom-11 atom-12\" d=\"M 141.7,199.4 L 124.4,209.4\" style=\"fill:none;fill-rule:evenodd;stroke:#000000;stroke-width:2.0px;stroke-linecap:butt;stroke-linejoin:miter;stroke-opacity:1\"/>\n",
       "<path class=\"bond-22 atom-11 atom-12\" d=\"M 124.4,209.4 L 107.0,219.3\" style=\"fill:none;fill-rule:evenodd;stroke:#0000FF;stroke-width:2.0px;stroke-linecap:butt;stroke-linejoin:miter;stroke-opacity:1\"/>\n",
       "<path class=\"bond-23 atom-11 atom-13\" d=\"M 141.7,199.4 L 185.4,224.8\" style=\"fill:none;fill-rule:evenodd;stroke:#000000;stroke-width:2.0px;stroke-linecap:butt;stroke-linejoin:miter;stroke-opacity:1\"/>\n",
       "<path class=\"bond-24 atom-12 atom-23\" d=\"M 87.4,219.2 L 75.5,212.2\" style=\"fill:none;fill-rule:evenodd;stroke:#0000FF;stroke-width:2.0px;stroke-linecap:butt;stroke-linejoin:miter;stroke-opacity:1\"/>\n",
       "<path class=\"bond-24 atom-12 atom-23\" d=\"M 75.5,212.2 L 63.7,205.3\" style=\"fill:none;fill-rule:evenodd;stroke:#000000;stroke-width:2.0px;stroke-linecap:butt;stroke-linejoin:miter;stroke-opacity:1\"/>\n",
       "<path class=\"bond-25 atom-12 atom-24\" d=\"M 97.1,237.3 L 96.9,250.3\" style=\"fill:none;fill-rule:evenodd;stroke:#0000FF;stroke-width:2.0px;stroke-linecap:butt;stroke-linejoin:miter;stroke-opacity:1\"/>\n",
       "<path class=\"bond-25 atom-12 atom-24\" d=\"M 96.9,250.3 L 96.8,263.2\" style=\"fill:none;fill-rule:evenodd;stroke:#000000;stroke-width:2.0px;stroke-linecap:butt;stroke-linejoin:miter;stroke-opacity:1\"/>\n",
       "<path class=\"bond-26 atom-13 atom-14\" d=\"M 185.4,224.8 L 229.4,199.8\" style=\"fill:none;fill-rule:evenodd;stroke:#000000;stroke-width:2.0px;stroke-linecap:butt;stroke-linejoin:miter;stroke-opacity:1\"/>\n",
       "<path class=\"bond-26 atom-13 atom-14\" d=\"M 185.4,215.9 L 221.7,195.3\" style=\"fill:none;fill-rule:evenodd;stroke:#000000;stroke-width:2.0px;stroke-linecap:butt;stroke-linejoin:miter;stroke-opacity:1\"/>\n",
       "<path class=\"bond-27 atom-13 atom-25\" d=\"M 185.4,224.8 L 185.5,262.9\" style=\"fill:none;fill-rule:evenodd;stroke:#000000;stroke-width:2.0px;stroke-linecap:butt;stroke-linejoin:miter;stroke-opacity:1\"/>\n",
       "<path class=\"bond-28 atom-14 atom-26\" d=\"M 229.4,199.8 L 257.9,216.2\" style=\"fill:none;fill-rule:evenodd;stroke:#000000;stroke-width:2.0px;stroke-linecap:butt;stroke-linejoin:miter;stroke-opacity:1\"/>\n",
       "<path class=\"bond-29 atom-27 atom-28\" d=\"M 302.1,244.7 L 309.4,237.4\" style=\"fill:none;fill-rule:evenodd;stroke:#000000;stroke-width:2.0px;stroke-linecap:butt;stroke-linejoin:miter;stroke-opacity:1\"/>\n",
       "<path class=\"bond-29 atom-27 atom-28\" d=\"M 309.4,237.4 L 316.7,230.1\" style=\"fill:none;fill-rule:evenodd;stroke:#FF0000;stroke-width:2.0px;stroke-linecap:butt;stroke-linejoin:miter;stroke-opacity:1\"/>\n",
       "<path d=\"M 187.0,124.3 L 186.1,123.8 L 185.3,124.3\" style=\"fill:none;stroke:#000000;stroke-width:2.0px;stroke-linecap:butt;stroke-linejoin:miter;stroke-opacity:1;\"/>\n",
       "<path class=\"atom-2\" d=\"M 325.9 85.5 Q 325.9 80.4, 328.5 77.5 Q 331.0 74.6, 335.8 74.6 Q 340.5 74.6, 343.1 77.5 Q 345.6 80.4, 345.6 85.5 Q 345.6 90.7, 343.0 93.7 Q 340.5 96.6, 335.8 96.6 Q 331.1 96.6, 328.5 93.7 Q 325.9 90.7, 325.9 85.5 M 335.8 94.2 Q 339.1 94.2, 340.8 92.0 Q 342.6 89.8, 342.6 85.5 Q 342.6 81.3, 340.8 79.2 Q 339.1 77.0, 335.8 77.0 Q 332.5 77.0, 330.7 79.1 Q 329.0 81.3, 329.0 85.5 Q 329.0 89.8, 330.7 92.0 Q 332.5 94.2, 335.8 94.2 \" fill=\"#FF0000\"/>\n",
       "<path class=\"atom-4\" d=\"M 407.5 167.2 Q 407.5 162.0, 410.0 159.1 Q 412.6 156.3, 417.3 156.3 Q 422.1 156.3, 424.6 159.1 Q 427.2 162.0, 427.2 167.2 Q 427.2 172.4, 424.6 175.3 Q 422.0 178.3, 417.3 178.3 Q 412.6 178.3, 410.0 175.3 Q 407.5 172.4, 407.5 167.2 M 417.3 175.9 Q 420.6 175.9, 422.3 173.7 Q 424.1 171.5, 424.1 167.2 Q 424.1 163.0, 422.3 160.8 Q 420.6 158.7, 417.3 158.7 Q 414.1 158.7, 412.3 160.8 Q 410.5 162.9, 410.5 167.2 Q 410.5 171.5, 412.3 173.7 Q 414.1 175.9, 417.3 175.9 \" fill=\"#FF0000\"/>\n",
       "<path class=\"atom-7\" d=\"M 225.0 138.7 L 232.0 150.0 Q 232.7 151.2, 233.8 153.2 Q 235.0 155.2, 235.0 155.3 L 235.0 138.7 L 237.9 138.7 L 237.9 160.1 L 234.9 160.1 L 227.4 147.7 Q 226.5 146.3, 225.6 144.6 Q 224.7 142.9, 224.4 142.4 L 224.4 160.1 L 221.6 160.1 L 221.6 138.7 L 225.0 138.7 \" fill=\"#0000FF\"/>\n",
       "<path class=\"atom-9\" d=\"M 176.1 73.5 Q 176.1 68.4, 178.7 65.5 Q 181.2 62.6, 186.0 62.6 Q 190.7 62.6, 193.3 65.5 Q 195.8 68.4, 195.8 73.5 Q 195.8 78.7, 193.2 81.7 Q 190.6 84.6, 186.0 84.6 Q 181.2 84.6, 178.7 81.7 Q 176.1 78.8, 176.1 73.5 M 186.0 82.2 Q 189.2 82.2, 191.0 80.0 Q 192.8 77.8, 192.8 73.5 Q 192.8 69.3, 191.0 67.2 Q 189.2 65.0, 186.0 65.0 Q 182.7 65.0, 180.9 67.2 Q 179.1 69.3, 179.1 73.5 Q 179.1 77.8, 180.9 80.0 Q 182.7 82.2, 186.0 82.2 \" fill=\"#FF0000\"/>\n",
       "<path class=\"atom-10\" d=\"M 137.4 138.2 L 144.4 149.6 Q 145.1 150.7, 146.2 152.7 Q 147.4 154.7, 147.4 154.9 L 147.4 138.2 L 150.3 138.2 L 150.3 159.6 L 147.3 159.6 L 139.8 147.2 Q 138.9 145.8, 138.0 144.1 Q 137.1 142.5, 136.8 141.9 L 136.8 159.6 L 134.0 159.6 L 134.0 138.2 L 137.4 138.2 \" fill=\"#0000FF\"/>\n",
       "<path class=\"atom-12\" d=\"M 92.5 214.2 L 99.5 225.5 Q 100.2 226.7, 101.3 228.7 Q 102.4 230.7, 102.5 230.8 L 102.5 214.2 L 105.3 214.2 L 105.3 235.6 L 102.4 235.6 L 94.9 223.2 Q 94.0 221.8, 93.1 220.1 Q 92.1 218.4, 91.9 217.9 L 91.9 235.6 L 89.1 235.6 L 89.1 214.2 L 92.5 214.2 \" fill=\"#0000FF\"/>\n",
       "<path class=\"atom-15\" d=\"M 438.0 77.7 L 440.9 77.7 L 440.9 86.8 L 451.9 86.8 L 451.9 77.7 L 454.8 77.7 L 454.8 99.1 L 451.9 99.1 L 451.9 89.2 L 440.9 89.2 L 440.9 99.1 L 438.0 99.1 L 438.0 77.7 \" fill=\"#000000\"/>\n",
       "<path class=\"atom-16\" d=\"M 434.6 27.4 L 437.5 27.4 L 437.5 36.6 L 448.5 36.6 L 448.5 27.4 L 451.4 27.4 L 451.4 48.9 L 448.5 48.9 L 448.5 39.0 L 437.5 39.0 L 437.5 48.9 L 434.6 48.9 L 434.6 27.4 \" fill=\"#000000\"/>\n",
       "<path class=\"atom-17\" d=\"M 364.6 13.6 L 367.5 13.6 L 367.5 22.7 L 378.4 22.7 L 378.4 13.6 L 381.3 13.6 L 381.3 35.1 L 378.4 35.1 L 378.4 25.2 L 367.5 25.2 L 367.5 35.1 L 364.6 35.1 L 364.6 13.6 \" fill=\"#000000\"/>\n",
       "<path class=\"atom-18\" d=\"M 418.6 117.2 L 421.5 117.2 L 421.5 126.3 L 432.5 126.3 L 432.5 117.2 L 435.4 117.2 L 435.4 138.7 L 432.5 138.7 L 432.5 128.8 L 421.5 128.8 L 421.5 138.7 L 418.6 138.7 L 418.6 117.2 \" fill=\"#000000\"/>\n",
       "<path class=\"atom-19\" d=\"M 359.6 200.8 L 362.5 200.8 L 362.5 209.9 L 373.4 209.9 L 373.4 200.8 L 376.3 200.8 L 376.3 222.2 L 373.4 222.2 L 373.4 212.3 L 362.5 212.3 L 362.5 222.2 L 359.6 222.2 L 359.6 200.8 \" fill=\"#000000\"/>\n",
       "<path class=\"atom-20\" d=\"M 427.9 203.2 L 430.8 203.2 L 430.8 212.3 L 441.8 212.3 L 441.8 203.2 L 444.7 203.2 L 444.7 224.6 L 441.8 224.6 L 441.8 214.7 L 430.8 214.7 L 430.8 224.6 L 427.9 224.6 L 427.9 203.2 \" fill=\"#000000\"/>\n",
       "<path class=\"atom-21\" d=\"M 262.6 166.3 L 265.5 166.3 L 265.5 175.5 L 276.4 175.5 L 276.4 166.3 L 279.3 166.3 L 279.3 187.8 L 276.4 187.8 L 276.4 177.9 L 265.5 177.9 L 265.5 187.8 L 262.6 187.8 L 262.6 166.3 \" fill=\"#000000\"/>\n",
       "<path class=\"atom-22\" d=\"M 262.1 65.2 L 265.0 65.2 L 265.0 74.3 L 275.9 74.3 L 275.9 65.2 L 278.8 65.2 L 278.8 86.6 L 275.9 86.6 L 275.9 76.7 L 265.0 76.7 L 265.0 86.6 L 262.1 86.6 L 262.1 65.2 \" fill=\"#000000\"/>\n",
       "<path class=\"atom-23\" d=\"M 45.2 188.7 L 48.1 188.7 L 48.1 197.8 L 59.1 197.8 L 59.1 188.7 L 62.0 188.7 L 62.0 210.1 L 59.1 210.1 L 59.1 200.3 L 48.1 200.3 L 48.1 210.1 L 45.2 210.1 L 45.2 188.7 \" fill=\"#000000\"/>\n",
       "<path class=\"atom-24\" d=\"M 88.3 264.9 L 91.2 264.9 L 91.2 274.0 L 102.1 274.0 L 102.1 264.9 L 105.0 264.9 L 105.0 286.4 L 102.1 286.4 L 102.1 276.5 L 91.2 276.5 L 91.2 286.4 L 88.3 286.4 L 88.3 264.9 \" fill=\"#000000\"/>\n",
       "<path class=\"atom-25\" d=\"M 177.2 264.6 L 180.1 264.6 L 180.1 273.7 L 191.1 273.7 L 191.1 264.6 L 194.0 264.6 L 194.0 286.0 L 191.1 286.0 L 191.1 276.1 L 180.1 276.1 L 180.1 286.0 L 177.2 286.0 L 177.2 264.6 \" fill=\"#000000\"/>\n",
       "<path class=\"atom-26\" d=\"M 259.6 211.2 L 262.5 211.2 L 262.5 220.4 L 273.5 220.4 L 273.5 211.2 L 276.4 211.2 L 276.4 232.7 L 273.5 232.7 L 273.5 222.8 L 262.5 222.8 L 262.5 232.7 L 259.6 232.7 L 259.6 211.2 \" fill=\"#000000\"/>\n",
       "<path class=\"atom-27\" d=\"M 283.7 244.2 L 286.6 244.2 L 286.6 253.3 L 297.5 253.3 L 297.5 244.2 L 300.4 244.2 L 300.4 265.6 L 297.5 265.6 L 297.5 255.7 L 286.6 255.7 L 286.6 265.6 L 283.7 265.6 L 283.7 244.2 \" fill=\"#000000\"/>\n",
       "<path class=\"atom-28\" d=\"M 318.3 218.6 Q 318.3 213.4, 320.9 210.6 Q 323.4 207.7, 328.2 207.7 Q 332.9 207.7, 335.5 210.6 Q 338.0 213.4, 338.0 218.6 Q 338.0 223.8, 335.4 226.8 Q 332.9 229.7, 328.2 229.7 Q 323.5 229.7, 320.9 226.8 Q 318.3 223.8, 318.3 218.6 M 328.2 227.3 Q 331.4 227.3, 333.2 225.1 Q 335.0 222.9, 335.0 218.6 Q 335.0 214.4, 333.2 212.3 Q 331.4 210.1, 328.2 210.1 Q 324.9 210.1, 323.1 212.2 Q 321.4 214.4, 321.4 218.6 Q 321.4 222.9, 323.1 225.1 Q 324.9 227.3, 328.2 227.3 \" fill=\"#FF0000\"/>\n",
       "</svg>"
      ],
      "text/plain": [
       "<IPython.core.display.SVG object>"
      ]
     },
     "execution_count": 7,
     "metadata": {},
     "output_type": "execute_result"
    }
   ],
   "source": [
    "traj = mdtraj.load(\"../cluster/traj_cls_c.nc\", top=\"../md/crd/c.pdb\")\n",
    "unique_molecules = Molecule.from_file(\"../md/crd/c.sdf\")\n",
    "topology = Topology.from_openmm(traj[0].topology.to_openmm(), unique_molecules=[unique_molecules])\n",
    "mol = Molecule.from_topology(topology)\n",
    "mol.visualize()"
   ]
  },
  {
   "cell_type": "code",
   "execution_count": 8,
   "metadata": {
    "tags": []
   },
   "outputs": [
    {
     "data": {
      "application/vnd.jupyter.widget-view+json": {
       "model_id": "2cc88ef21d21487081e2ffd8bcd8ab80",
       "version_major": 2,
       "version_minor": 0
      },
      "text/plain": [
       "NGLWidget()"
      ]
     },
     "metadata": {},
     "output_type": "display_data"
    }
   ],
   "source": [
    "mol"
   ]
  },
  {
   "cell_type": "code",
   "execution_count": 9,
   "metadata": {
    "tags": []
   },
   "outputs": [
    {
     "name": "stdout",
     "output_type": "stream",
     "text": [
      "C2 O2 2\n",
      "N3 C4 2\n",
      "C5 C6 2\n"
     ]
    }
   ],
   "source": [
    "get_bonds(mol)"
   ]
  },
  {
   "cell_type": "markdown",
   "metadata": {},
   "source": [
    "##### guanosine"
   ]
  },
  {
   "cell_type": "code",
   "execution_count": 10,
   "metadata": {
    "tags": []
   },
   "outputs": [
    {
     "data": {
      "image/svg+xml": [
       "<svg xmlns=\"http://www.w3.org/2000/svg\" xmlns:rdkit=\"http://www.rdkit.org/xml\" xmlns:xlink=\"http://www.w3.org/1999/xlink\" version=\"1.1\" baseProfile=\"full\" xml:space=\"preserve\" width=\"500px\" height=\"300px\" viewBox=\"0 0 500 300\">\n",
       "<!-- END OF HEADER -->\n",
       "<rect style=\"opacity:1.0;fill:#FFFFFF;stroke:none\" width=\"500.0\" height=\"300.0\" x=\"0.0\" y=\"0.0\"> </rect>\n",
       "<path class=\"bond-0 atom-0 atom-1\" d=\"M 182.1,240.9 L 174.6,202.8\" style=\"fill:none;fill-rule:evenodd;stroke:#000000;stroke-width:2.0px;stroke-linecap:butt;stroke-linejoin:miter;stroke-opacity:1\"/>\n",
       "<path class=\"bond-1 atom-0 atom-18\" d=\"M 182.1,240.9 L 150.7,246.4\" style=\"fill:none;fill-rule:evenodd;stroke:#000000;stroke-width:2.0px;stroke-linecap:butt;stroke-linejoin:miter;stroke-opacity:1\"/>\n",
       "<path class=\"bond-2 atom-0 atom-19\" d=\"M 182.1,240.9 L 171.8,268.3\" style=\"fill:none;fill-rule:evenodd;stroke:#000000;stroke-width:2.0px;stroke-linecap:butt;stroke-linejoin:miter;stroke-opacity:1\"/>\n",
       "<path class=\"bond-3 atom-0 atom-20\" d=\"M 182.1,240.9 L 211.1,251.3\" style=\"fill:none;fill-rule:evenodd;stroke:#000000;stroke-width:2.0px;stroke-linecap:butt;stroke-linejoin:miter;stroke-opacity:1\"/>\n",
       "<path class=\"bond-4 atom-1 atom-2\" d=\"M 174.6,202.8 L 189.6,200.5\" style=\"fill:none;fill-rule:evenodd;stroke:#000000;stroke-width:2.0px;stroke-linecap:butt;stroke-linejoin:miter;stroke-opacity:1\"/>\n",
       "<path class=\"bond-4 atom-1 atom-2\" d=\"M 189.6,200.5 L 204.7,198.2\" style=\"fill:none;fill-rule:evenodd;stroke:#FF0000;stroke-width:2.0px;stroke-linecap:butt;stroke-linejoin:miter;stroke-opacity:1\"/>\n",
       "<path class=\"bond-5 atom-1 atom-3\" d=\"M 174.6,202.8 L 156.9,167.5\" style=\"fill:none;fill-rule:evenodd;stroke:#000000;stroke-width:2.0px;stroke-linecap:butt;stroke-linejoin:miter;stroke-opacity:1\"/>\n",
       "<path class=\"bond-6 atom-1 atom-21\" d=\"M 174.6,202.8 L 147.0,215.3 L 145.1,209.8 Z\" style=\"fill:#000000;fill-rule:evenodd;fill-opacity:1;stroke:#000000;stroke-width:0.5px;stroke-linecap:butt;stroke-linejoin:miter;stroke-opacity:1;\"/>\n",
       "<path class=\"bond-7 atom-2 atom-6\" d=\"M 215.3,187.0 L 217.7,172.5\" style=\"fill:none;fill-rule:evenodd;stroke:#FF0000;stroke-width:2.0px;stroke-linecap:butt;stroke-linejoin:miter;stroke-opacity:1\"/>\n",
       "<path class=\"bond-7 atom-2 atom-6\" d=\"M 217.7,172.5 L 220.1,158.0\" style=\"fill:none;fill-rule:evenodd;stroke:#000000;stroke-width:2.0px;stroke-linecap:butt;stroke-linejoin:miter;stroke-opacity:1\"/>\n",
       "<path class=\"bond-8 atom-3 atom-4\" d=\"M 156.9,167.5 L 144.9,174.5\" style=\"fill:none;fill-rule:evenodd;stroke:#000000;stroke-width:2.0px;stroke-linecap:butt;stroke-linejoin:miter;stroke-opacity:1\"/>\n",
       "<path class=\"bond-8 atom-3 atom-4\" d=\"M 144.9,174.5 L 132.9,181.5\" style=\"fill:none;fill-rule:evenodd;stroke:#FF0000;stroke-width:2.0px;stroke-linecap:butt;stroke-linejoin:miter;stroke-opacity:1\"/>\n",
       "<path class=\"bond-9 atom-3 atom-5\" d=\"M 156.9,167.5 L 184.8,139.7\" style=\"fill:none;fill-rule:evenodd;stroke:#000000;stroke-width:2.0px;stroke-linecap:butt;stroke-linejoin:miter;stroke-opacity:1\"/>\n",
       "<path class=\"bond-10 atom-3 atom-22\" d=\"M 154.1,165.2 L 155.0,164.4\" style=\"fill:none;fill-rule:evenodd;stroke:#000000;stroke-width:1.0px;stroke-linecap:butt;stroke-linejoin:miter;stroke-opacity:1\"/>\n",
       "<path class=\"bond-10 atom-3 atom-22\" d=\"M 151.3,163.0 L 153.1,161.4\" style=\"fill:none;fill-rule:evenodd;stroke:#000000;stroke-width:1.0px;stroke-linecap:butt;stroke-linejoin:miter;stroke-opacity:1\"/>\n",
       "<path class=\"bond-10 atom-3 atom-22\" d=\"M 148.6,160.7 L 151.2,158.4\" style=\"fill:none;fill-rule:evenodd;stroke:#000000;stroke-width:1.0px;stroke-linecap:butt;stroke-linejoin:miter;stroke-opacity:1\"/>\n",
       "<path class=\"bond-10 atom-3 atom-22\" d=\"M 145.8,158.4 L 149.3,155.3\" style=\"fill:none;fill-rule:evenodd;stroke:#000000;stroke-width:1.0px;stroke-linecap:butt;stroke-linejoin:miter;stroke-opacity:1\"/>\n",
       "<path class=\"bond-10 atom-3 atom-22\" d=\"M 143.0,156.2 L 147.4,152.3\" style=\"fill:none;fill-rule:evenodd;stroke:#000000;stroke-width:1.0px;stroke-linecap:butt;stroke-linejoin:miter;stroke-opacity:1\"/>\n",
       "<path class=\"bond-11 atom-4 atom-23\" d=\"M 114.9,181.1 L 106.5,175.8\" style=\"fill:none;fill-rule:evenodd;stroke:#FF0000;stroke-width:2.0px;stroke-linecap:butt;stroke-linejoin:miter;stroke-opacity:1\"/>\n",
       "<path class=\"bond-11 atom-4 atom-23\" d=\"M 106.5,175.8 L 98.1,170.5\" style=\"fill:none;fill-rule:evenodd;stroke:#000000;stroke-width:2.0px;stroke-linecap:butt;stroke-linejoin:miter;stroke-opacity:1\"/>\n",
       "<path class=\"bond-12 atom-5 atom-6\" d=\"M 184.8,139.7 L 220.1,158.0\" style=\"fill:none;fill-rule:evenodd;stroke:#000000;stroke-width:2.0px;stroke-linecap:butt;stroke-linejoin:miter;stroke-opacity:1\"/>\n",
       "<path class=\"bond-13 atom-5 atom-24\" d=\"M 185.6,136.1 L 187.3,137.0\" style=\"fill:none;fill-rule:evenodd;stroke:#000000;stroke-width:1.0px;stroke-linecap:butt;stroke-linejoin:miter;stroke-opacity:1\"/>\n",
       "<path class=\"bond-13 atom-5 atom-24\" d=\"M 186.4,132.5 L 189.9,134.4\" style=\"fill:none;fill-rule:evenodd;stroke:#000000;stroke-width:1.0px;stroke-linecap:butt;stroke-linejoin:miter;stroke-opacity:1\"/>\n",
       "<path class=\"bond-13 atom-5 atom-24\" d=\"M 187.3,128.9 L 192.4,131.7\" style=\"fill:none;fill-rule:evenodd;stroke:#000000;stroke-width:1.0px;stroke-linecap:butt;stroke-linejoin:miter;stroke-opacity:1\"/>\n",
       "<path class=\"bond-14 atom-5 atom-31\" d=\"M 184.8,139.7 L 172.8,128.4\" style=\"fill:none;fill-rule:evenodd;stroke:#000000;stroke-width:2.0px;stroke-linecap:butt;stroke-linejoin:miter;stroke-opacity:1\"/>\n",
       "<path class=\"bond-14 atom-5 atom-31\" d=\"M 172.8,128.4 L 160.8,117.1\" style=\"fill:none;fill-rule:evenodd;stroke:#FF0000;stroke-width:2.0px;stroke-linecap:butt;stroke-linejoin:miter;stroke-opacity:1\"/>\n",
       "<path class=\"bond-15 atom-6 atom-17\" d=\"M 220.1,158.0 L 225.4,146.2\" style=\"fill:none;fill-rule:evenodd;stroke:#000000;stroke-width:2.0px;stroke-linecap:butt;stroke-linejoin:miter;stroke-opacity:1\"/>\n",
       "<path class=\"bond-15 atom-6 atom-17\" d=\"M 225.4,146.2 L 230.7,134.4\" style=\"fill:none;fill-rule:evenodd;stroke:#0000FF;stroke-width:2.0px;stroke-linecap:butt;stroke-linejoin:miter;stroke-opacity:1\"/>\n",
       "<path class=\"bond-16 atom-6 atom-25\" d=\"M 220.1,158.0 L 250.0,163.9 L 248.3,169.5 Z\" style=\"fill:#000000;fill-rule:evenodd;fill-opacity:1;stroke:#000000;stroke-width:0.5px;stroke-linecap:butt;stroke-linejoin:miter;stroke-opacity:1;\"/>\n",
       "<path class=\"bond-17 atom-7 atom-8\" d=\"M 344.9,94.6 L 343.3,109.4\" style=\"fill:none;fill-rule:evenodd;stroke:#0000FF;stroke-width:2.0px;stroke-linecap:butt;stroke-linejoin:miter;stroke-opacity:1\"/>\n",
       "<path class=\"bond-17 atom-7 atom-8\" d=\"M 343.3,109.4 L 341.7,124.2\" style=\"fill:none;fill-rule:evenodd;stroke:#000000;stroke-width:2.0px;stroke-linecap:butt;stroke-linejoin:miter;stroke-opacity:1\"/>\n",
       "<path class=\"bond-18 atom-7 atom-13\" d=\"M 338.3,79.2 L 326.2,70.3\" style=\"fill:none;fill-rule:evenodd;stroke:#0000FF;stroke-width:2.0px;stroke-linecap:butt;stroke-linejoin:miter;stroke-opacity:1\"/>\n",
       "<path class=\"bond-18 atom-7 atom-13\" d=\"M 326.2,70.3 L 314.1,61.4\" style=\"fill:none;fill-rule:evenodd;stroke:#000000;stroke-width:2.0px;stroke-linecap:butt;stroke-linejoin:miter;stroke-opacity:1\"/>\n",
       "<path class=\"bond-19 atom-7 atom-26\" d=\"M 353.6,81.5 L 363.9,76.9\" style=\"fill:none;fill-rule:evenodd;stroke:#0000FF;stroke-width:2.0px;stroke-linecap:butt;stroke-linejoin:miter;stroke-opacity:1\"/>\n",
       "<path class=\"bond-19 atom-7 atom-26\" d=\"M 363.9,76.9 L 374.3,72.4\" style=\"fill:none;fill-rule:evenodd;stroke:#000000;stroke-width:2.0px;stroke-linecap:butt;stroke-linejoin:miter;stroke-opacity:1\"/>\n",
       "<path class=\"bond-20 atom-8 atom-9\" d=\"M 341.7,124.2 L 353.8,133.1\" style=\"fill:none;fill-rule:evenodd;stroke:#000000;stroke-width:2.0px;stroke-linecap:butt;stroke-linejoin:miter;stroke-opacity:1\"/>\n",
       "<path class=\"bond-20 atom-8 atom-9\" d=\"M 353.8,133.1 L 365.9,141.9\" style=\"fill:none;fill-rule:evenodd;stroke:#0000FF;stroke-width:2.0px;stroke-linecap:butt;stroke-linejoin:miter;stroke-opacity:1\"/>\n",
       "<path class=\"bond-21 atom-8 atom-10\" d=\"M 341.7,124.2 L 327.4,130.5\" style=\"fill:none;fill-rule:evenodd;stroke:#000000;stroke-width:2.0px;stroke-linecap:butt;stroke-linejoin:miter;stroke-opacity:1\"/>\n",
       "<path class=\"bond-21 atom-8 atom-10\" d=\"M 327.4,130.5 L 313.1,136.7\" style=\"fill:none;fill-rule:evenodd;stroke:#0000FF;stroke-width:2.0px;stroke-linecap:butt;stroke-linejoin:miter;stroke-opacity:1\"/>\n",
       "<path class=\"bond-21 atom-8 atom-10\" d=\"M 336.3,120.2 L 323.5,125.8\" style=\"fill:none;fill-rule:evenodd;stroke:#000000;stroke-width:2.0px;stroke-linecap:butt;stroke-linejoin:miter;stroke-opacity:1\"/>\n",
       "<path class=\"bond-21 atom-8 atom-10\" d=\"M 323.5,125.8 L 310.8,131.4\" style=\"fill:none;fill-rule:evenodd;stroke:#0000FF;stroke-width:2.0px;stroke-linecap:butt;stroke-linejoin:miter;stroke-opacity:1\"/>\n",
       "<path class=\"bond-22 atom-9 atom-27\" d=\"M 372.5,157.2 L 371.4,167.2\" style=\"fill:none;fill-rule:evenodd;stroke:#0000FF;stroke-width:2.0px;stroke-linecap:butt;stroke-linejoin:miter;stroke-opacity:1\"/>\n",
       "<path class=\"bond-22 atom-9 atom-27\" d=\"M 371.4,167.2 L 370.3,177.2\" style=\"fill:none;fill-rule:evenodd;stroke:#000000;stroke-width:2.0px;stroke-linecap:butt;stroke-linejoin:miter;stroke-opacity:1\"/>\n",
       "<path class=\"bond-23 atom-9 atom-28\" d=\"M 381.2,144.2 L 391.6,139.6\" style=\"fill:none;fill-rule:evenodd;stroke:#0000FF;stroke-width:2.0px;stroke-linecap:butt;stroke-linejoin:miter;stroke-opacity:1\"/>\n",
       "<path class=\"bond-23 atom-9 atom-28\" d=\"M 391.6,139.6 L 401.9,135.1\" style=\"fill:none;fill-rule:evenodd;stroke:#000000;stroke-width:2.0px;stroke-linecap:butt;stroke-linejoin:miter;stroke-opacity:1\"/>\n",
       "<path class=\"bond-24 atom-10 atom-11\" d=\"M 297.8,134.5 L 285.7,125.6\" style=\"fill:none;fill-rule:evenodd;stroke:#0000FF;stroke-width:2.0px;stroke-linecap:butt;stroke-linejoin:miter;stroke-opacity:1\"/>\n",
       "<path class=\"bond-24 atom-10 atom-11\" d=\"M 285.7,125.6 L 273.6,116.7\" style=\"fill:none;fill-rule:evenodd;stroke:#000000;stroke-width:2.0px;stroke-linecap:butt;stroke-linejoin:miter;stroke-opacity:1\"/>\n",
       "<path class=\"bond-25 atom-11 atom-12\" d=\"M 273.6,116.7 L 277.8,77.4\" style=\"fill:none;fill-rule:evenodd;stroke:#000000;stroke-width:2.0px;stroke-linecap:butt;stroke-linejoin:miter;stroke-opacity:1\"/>\n",
       "<path class=\"bond-25 atom-11 atom-12\" d=\"M 279.7,114.0 L 283.2,81.4\" style=\"fill:none;fill-rule:evenodd;stroke:#000000;stroke-width:2.0px;stroke-linecap:butt;stroke-linejoin:miter;stroke-opacity:1\"/>\n",
       "<path class=\"bond-26 atom-11 atom-17\" d=\"M 273.6,116.7 L 258.1,119.9\" style=\"fill:none;fill-rule:evenodd;stroke:#000000;stroke-width:2.0px;stroke-linecap:butt;stroke-linejoin:miter;stroke-opacity:1\"/>\n",
       "<path class=\"bond-26 atom-11 atom-17\" d=\"M 258.1,119.9 L 242.7,123.1\" style=\"fill:none;fill-rule:evenodd;stroke:#0000FF;stroke-width:2.0px;stroke-linecap:butt;stroke-linejoin:miter;stroke-opacity:1\"/>\n",
       "<path class=\"bond-27 atom-12 atom-13\" d=\"M 277.8,77.4 L 314.1,61.4\" style=\"fill:none;fill-rule:evenodd;stroke:#000000;stroke-width:2.0px;stroke-linecap:butt;stroke-linejoin:miter;stroke-opacity:1\"/>\n",
       "<path class=\"bond-28 atom-12 atom-15\" d=\"M 277.8,77.4 L 263.7,71.0\" style=\"fill:none;fill-rule:evenodd;stroke:#000000;stroke-width:2.0px;stroke-linecap:butt;stroke-linejoin:miter;stroke-opacity:1\"/>\n",
       "<path class=\"bond-28 atom-12 atom-15\" d=\"M 263.7,71.0 L 249.6,64.6\" style=\"fill:none;fill-rule:evenodd;stroke:#0000FF;stroke-width:2.0px;stroke-linecap:butt;stroke-linejoin:miter;stroke-opacity:1\"/>\n",
       "<path class=\"bond-29 atom-13 atom-14\" d=\"M 316.8,63.4 L 318.5,48.0\" style=\"fill:none;fill-rule:evenodd;stroke:#000000;stroke-width:2.0px;stroke-linecap:butt;stroke-linejoin:miter;stroke-opacity:1\"/>\n",
       "<path class=\"bond-29 atom-13 atom-14\" d=\"M 318.5,48.0 L 320.1,32.5\" style=\"fill:none;fill-rule:evenodd;stroke:#FF0000;stroke-width:2.0px;stroke-linecap:butt;stroke-linejoin:miter;stroke-opacity:1\"/>\n",
       "<path class=\"bond-29 atom-13 atom-14\" d=\"M 311.0,62.8 L 312.7,47.3\" style=\"fill:none;fill-rule:evenodd;stroke:#000000;stroke-width:2.0px;stroke-linecap:butt;stroke-linejoin:miter;stroke-opacity:1\"/>\n",
       "<path class=\"bond-29 atom-13 atom-14\" d=\"M 312.7,47.3 L 314.3,31.9\" style=\"fill:none;fill-rule:evenodd;stroke:#FF0000;stroke-width:2.0px;stroke-linecap:butt;stroke-linejoin:miter;stroke-opacity:1\"/>\n",
       "<path class=\"bond-30 atom-15 atom-16\" d=\"M 234.3,69.6 L 224.9,80.0\" style=\"fill:none;fill-rule:evenodd;stroke:#0000FF;stroke-width:2.0px;stroke-linecap:butt;stroke-linejoin:miter;stroke-opacity:1\"/>\n",
       "<path class=\"bond-30 atom-15 atom-16\" d=\"M 224.9,80.0 L 215.5,90.4\" style=\"fill:none;fill-rule:evenodd;stroke:#000000;stroke-width:2.0px;stroke-linecap:butt;stroke-linejoin:miter;stroke-opacity:1\"/>\n",
       "<path class=\"bond-30 atom-15 atom-16\" d=\"M 238.6,73.5 L 230.6,82.4\" style=\"fill:none;fill-rule:evenodd;stroke:#0000FF;stroke-width:2.0px;stroke-linecap:butt;stroke-linejoin:miter;stroke-opacity:1\"/>\n",
       "<path class=\"bond-30 atom-15 atom-16\" d=\"M 230.6,82.4 L 222.6,91.2\" style=\"fill:none;fill-rule:evenodd;stroke:#000000;stroke-width:2.0px;stroke-linecap:butt;stroke-linejoin:miter;stroke-opacity:1\"/>\n",
       "<path class=\"bond-31 atom-16 atom-17\" d=\"M 215.5,90.4 L 222.5,102.7\" style=\"fill:none;fill-rule:evenodd;stroke:#000000;stroke-width:2.0px;stroke-linecap:butt;stroke-linejoin:miter;stroke-opacity:1\"/>\n",
       "<path class=\"bond-31 atom-16 atom-17\" d=\"M 222.5,102.7 L 229.5,115.0\" style=\"fill:none;fill-rule:evenodd;stroke:#0000FF;stroke-width:2.0px;stroke-linecap:butt;stroke-linejoin:miter;stroke-opacity:1\"/>\n",
       "<path class=\"bond-32 atom-16 atom-29\" d=\"M 215.5,90.4 L 184.2,85.5\" style=\"fill:none;fill-rule:evenodd;stroke:#000000;stroke-width:2.0px;stroke-linecap:butt;stroke-linejoin:miter;stroke-opacity:1\"/>\n",
       "<path class=\"bond-33 atom-30 atom-31\" d=\"M 120.1,114.8 L 131.5,112.6\" style=\"fill:none;fill-rule:evenodd;stroke:#000000;stroke-width:2.0px;stroke-linecap:butt;stroke-linejoin:miter;stroke-opacity:1\"/>\n",
       "<path class=\"bond-33 atom-30 atom-31\" d=\"M 131.5,112.6 L 142.8,110.4\" style=\"fill:none;fill-rule:evenodd;stroke:#FF0000;stroke-width:2.0px;stroke-linecap:butt;stroke-linejoin:miter;stroke-opacity:1\"/>\n",
       "<path d=\"M 314.7,61.9 L 314.1,61.4 L 312.3,62.2\" style=\"fill:none;stroke:#000000;stroke-width:2.0px;stroke-linecap:butt;stroke-linejoin:miter;stroke-opacity:1;\"/>\n",
       "<path class=\"atom-2\" d=\"M 205.9 196.8 Q 205.9 192.8, 207.9 190.5 Q 209.9 188.3, 213.7 188.3 Q 217.4 188.3, 219.4 190.5 Q 221.4 192.8, 221.4 196.8 Q 221.4 200.9, 219.4 203.2 Q 217.3 205.6, 213.7 205.6 Q 209.9 205.6, 207.9 203.2 Q 205.9 200.9, 205.9 196.8 M 213.7 203.7 Q 216.2 203.7, 217.6 201.9 Q 219.0 200.2, 219.0 196.8 Q 219.0 193.5, 217.6 191.9 Q 216.2 190.2, 213.7 190.2 Q 211.1 190.2, 209.7 191.9 Q 208.3 193.5, 208.3 196.8 Q 208.3 200.2, 209.7 201.9 Q 211.1 203.7, 213.7 203.7 \" fill=\"#FF0000\"/>\n",
       "<path class=\"atom-4\" d=\"M 116.2 186.8 Q 116.2 182.7, 118.2 180.5 Q 120.2 178.2, 123.9 178.2 Q 127.6 178.2, 129.6 180.5 Q 131.6 182.7, 131.6 186.8 Q 131.6 190.9, 129.6 193.2 Q 127.6 195.5, 123.9 195.5 Q 120.2 195.5, 118.2 193.2 Q 116.2 190.9, 116.2 186.8 M 123.9 193.6 Q 126.5 193.6, 127.8 191.9 Q 129.2 190.2, 129.2 186.8 Q 129.2 183.5, 127.8 181.8 Q 126.5 180.1, 123.9 180.1 Q 121.3 180.1, 119.9 181.8 Q 118.6 183.5, 118.6 186.8 Q 118.6 190.2, 119.9 191.9 Q 121.3 193.6, 123.9 193.6 \" fill=\"#FF0000\"/>\n",
       "<path class=\"atom-7\" d=\"M 342.2 76.5 L 347.7 85.4 Q 348.3 86.3, 349.1 87.8 Q 350.0 89.4, 350.1 89.5 L 350.1 76.5 L 352.3 76.5 L 352.3 93.3 L 350.0 93.3 L 344.1 83.5 Q 343.4 82.4, 342.7 81.1 Q 341.9 79.8, 341.7 79.4 L 341.7 93.3 L 339.5 93.3 L 339.5 76.5 L 342.2 76.5 \" fill=\"#0000FF\"/>\n",
       "<path class=\"atom-9\" d=\"M 369.9 139.2 L 375.4 148.1 Q 375.9 148.9, 376.8 150.5 Q 377.7 152.1, 377.7 152.2 L 377.7 139.2 L 380.0 139.2 L 380.0 156.0 L 377.7 156.0 L 371.7 146.2 Q 371.1 145.1, 370.3 143.8 Q 369.6 142.5, 369.4 142.1 L 369.4 156.0 L 367.2 156.0 L 367.2 139.2 L 369.9 139.2 \" fill=\"#0000FF\"/>\n",
       "<path class=\"atom-10\" d=\"M 301.7 131.7 L 307.2 140.6 Q 307.8 141.4, 308.7 143.0 Q 309.5 144.6, 309.6 144.7 L 309.6 131.7 L 311.8 131.7 L 311.8 148.5 L 309.5 148.5 L 303.6 138.7 Q 302.9 137.6, 302.2 136.3 Q 301.5 135.0, 301.3 134.6 L 301.3 148.5 L 299.1 148.5 L 299.1 131.7 L 301.7 131.7 \" fill=\"#0000FF\"/>\n",
       "<path class=\"atom-14\" d=\"M 310.6 22.2 Q 310.6 18.1, 312.6 15.9 Q 314.6 13.6, 318.3 13.6 Q 322.1 13.6, 324.1 15.9 Q 326.0 18.1, 326.0 22.2 Q 326.0 26.3, 324.0 28.6 Q 322.0 30.9, 318.3 30.9 Q 314.6 30.9, 312.6 28.6 Q 310.6 26.3, 310.6 22.2 M 318.3 29.0 Q 320.9 29.0, 322.3 27.3 Q 323.7 25.6, 323.7 22.2 Q 323.7 18.9, 322.3 17.2 Q 320.9 15.5, 318.3 15.5 Q 315.8 15.5, 314.4 17.2 Q 313.0 18.9, 313.0 22.2 Q 313.0 25.6, 314.4 27.3 Q 315.8 29.0, 318.3 29.0 \" fill=\"#FF0000\"/>\n",
       "<path class=\"atom-15\" d=\"M 238.2 52.7 L 243.7 61.6 Q 244.3 62.5, 245.1 64.1 Q 246.0 65.7, 246.1 65.8 L 246.1 52.7 L 248.3 52.7 L 248.3 69.5 L 246.0 69.5 L 240.1 59.8 Q 239.4 58.7, 238.7 57.4 Q 238.0 56.1, 237.7 55.7 L 237.7 69.5 L 235.6 69.5 L 235.6 52.7 L 238.2 52.7 \" fill=\"#0000FF\"/>\n",
       "<path class=\"atom-17\" d=\"M 231.3 116.3 L 236.8 125.2 Q 237.4 126.1, 238.3 127.7 Q 239.1 129.2, 239.2 129.3 L 239.2 116.3 L 241.4 116.3 L 241.4 133.1 L 239.1 133.1 L 233.2 123.4 Q 232.5 122.2, 231.8 120.9 Q 231.1 119.6, 230.9 119.2 L 230.9 133.1 L 228.7 133.1 L 228.7 116.3 L 231.3 116.3 \" fill=\"#0000FF\"/>\n",
       "<path class=\"atom-18\" d=\"M 136.2 239.4 L 138.5 239.4 L 138.5 246.5 L 147.1 246.5 L 147.1 239.4 L 149.4 239.4 L 149.4 256.2 L 147.1 256.2 L 147.1 248.4 L 138.5 248.4 L 138.5 256.2 L 136.2 256.2 L 136.2 239.4 \" fill=\"#000000\"/>\n",
       "<path class=\"atom-19\" d=\"M 161.6 269.6 L 163.9 269.6 L 163.9 276.7 L 172.5 276.7 L 172.5 269.6 L 174.8 269.6 L 174.8 286.4 L 172.5 286.4 L 172.5 278.6 L 163.9 278.6 L 163.9 286.4 L 161.6 286.4 L 161.6 269.6 \" fill=\"#000000\"/>\n",
       "<path class=\"atom-20\" d=\"M 212.4 245.8 L 214.7 245.8 L 214.7 252.9 L 223.3 252.9 L 223.3 245.8 L 225.5 245.8 L 225.5 262.6 L 223.3 262.6 L 223.3 254.8 L 214.7 254.8 L 214.7 262.6 L 212.4 262.6 L 212.4 245.8 \" fill=\"#000000\"/>\n",
       "<path class=\"atom-21\" d=\"M 130.3 207.3 L 132.6 207.3 L 132.6 214.4 L 141.2 214.4 L 141.2 207.3 L 143.5 207.3 L 143.5 224.1 L 141.2 224.1 L 141.2 216.3 L 132.6 216.3 L 132.6 224.1 L 130.3 224.1 L 130.3 207.3 \" fill=\"#000000\"/>\n",
       "<path class=\"atom-22\" d=\"M 129.5 135.5 L 131.7 135.5 L 131.7 142.7 L 140.3 142.7 L 140.3 135.5 L 142.6 135.5 L 142.6 152.3 L 140.3 152.3 L 140.3 144.6 L 131.7 144.6 L 131.7 152.3 L 129.5 152.3 L 129.5 135.5 \" fill=\"#000000\"/>\n",
       "<path class=\"atom-23\" d=\"M 83.6 157.1 L 85.9 157.1 L 85.9 164.3 L 94.5 164.3 L 94.5 157.1 L 96.8 157.1 L 96.8 173.9 L 94.5 173.9 L 94.5 166.2 L 85.9 166.2 L 85.9 173.9 L 83.6 173.9 L 83.6 157.1 \" fill=\"#000000\"/>\n",
       "<path class=\"atom-24\" d=\"M 189.1 110.9 L 191.4 110.9 L 191.4 118.1 L 200.0 118.1 L 200.0 110.9 L 202.3 110.9 L 202.3 127.7 L 200.0 127.7 L 200.0 120.0 L 191.4 120.0 L 191.4 127.7 L 189.1 127.7 L 189.1 110.9 \" fill=\"#000000\"/>\n",
       "<path class=\"atom-25\" d=\"M 251.7 161.1 L 254.0 161.1 L 254.0 168.2 L 262.6 168.2 L 262.6 161.1 L 264.8 161.1 L 264.8 177.9 L 262.6 177.9 L 262.6 170.1 L 254.0 170.1 L 254.0 177.9 L 251.7 177.9 L 251.7 161.1 \" fill=\"#000000\"/>\n",
       "<path class=\"atom-26\" d=\"M 375.6 60.5 L 377.9 60.5 L 377.9 67.6 L 386.5 67.6 L 386.5 60.5 L 388.7 60.5 L 388.7 77.3 L 386.5 77.3 L 386.5 69.5 L 377.9 69.5 L 377.9 77.3 L 375.6 77.3 L 375.6 60.5 \" fill=\"#000000\"/>\n",
       "<path class=\"atom-27\" d=\"M 362.7 178.5 L 365.0 178.5 L 365.0 185.6 L 373.6 185.6 L 373.6 178.5 L 375.9 178.5 L 375.9 195.3 L 373.6 195.3 L 373.6 187.5 L 365.0 187.5 L 365.0 195.3 L 362.7 195.3 L 362.7 178.5 \" fill=\"#000000\"/>\n",
       "<path class=\"atom-28\" d=\"M 403.2 123.2 L 405.5 123.2 L 405.5 130.4 L 414.1 130.4 L 414.1 123.2 L 416.4 123.2 L 416.4 140.0 L 414.1 140.0 L 414.1 132.3 L 405.5 132.3 L 405.5 140.0 L 403.2 140.0 L 403.2 123.2 \" fill=\"#000000\"/>\n",
       "<path class=\"atom-29\" d=\"M 169.8 75.9 L 172.1 75.9 L 172.1 83.1 L 180.7 83.1 L 180.7 75.9 L 182.9 75.9 L 182.9 92.7 L 180.7 92.7 L 180.7 85.0 L 172.1 85.0 L 172.1 92.7 L 169.8 92.7 L 169.8 75.9 \" fill=\"#000000\"/>\n",
       "<path class=\"atom-30\" d=\"M 105.7 107.9 L 107.9 107.9 L 107.9 115.0 L 116.5 115.0 L 116.5 107.9 L 118.8 107.9 L 118.8 124.7 L 116.5 124.7 L 116.5 116.9 L 107.9 116.9 L 107.9 124.7 L 105.7 124.7 L 105.7 107.9 \" fill=\"#000000\"/>\n",
       "<path class=\"atom-31\" d=\"M 144.1 108.7 Q 144.1 104.7, 146.1 102.4 Q 148.1 100.2, 151.8 100.2 Q 155.5 100.2, 157.5 102.4 Q 159.5 104.7, 159.5 108.7 Q 159.5 112.8, 157.5 115.1 Q 155.5 117.4, 151.8 117.4 Q 148.1 117.4, 146.1 115.1 Q 144.1 112.8, 144.1 108.7 M 151.8 115.5 Q 154.4 115.5, 155.7 113.8 Q 157.1 112.1, 157.1 108.7 Q 157.1 105.4, 155.7 103.8 Q 154.4 102.1, 151.8 102.1 Q 149.2 102.1, 147.8 103.7 Q 146.5 105.4, 146.5 108.7 Q 146.5 112.1, 147.8 113.8 Q 149.2 115.5, 151.8 115.5 \" fill=\"#FF0000\"/>\n",
       "</svg>"
      ],
      "text/plain": [
       "<IPython.core.display.SVG object>"
      ]
     },
     "execution_count": 10,
     "metadata": {},
     "output_type": "execute_result"
    }
   ],
   "source": [
    "traj = mdtraj.load(\"../cluster/traj_cls_g.nc\", top=\"../md/crd/g.pdb\")\n",
    "unique_molecules = Molecule.from_file(\"../md/crd/g.sdf\")\n",
    "topology = Topology.from_openmm(traj[0].topology.to_openmm(), unique_molecules=[unique_molecules])\n",
    "mol = Molecule.from_topology(topology)\n",
    "mol.visualize()"
   ]
  },
  {
   "cell_type": "code",
   "execution_count": 11,
   "metadata": {
    "tags": []
   },
   "outputs": [
    {
     "data": {
      "application/vnd.jupyter.widget-view+json": {
       "model_id": "c53600f4556b4671806e89cd666bdfbb",
       "version_major": 2,
       "version_minor": 0
      },
      "text/plain": [
       "NGLWidget()"
      ]
     },
     "metadata": {},
     "output_type": "display_data"
    }
   ],
   "source": [
    "mol"
   ]
  },
  {
   "cell_type": "code",
   "execution_count": 12,
   "metadata": {
    "tags": []
   },
   "outputs": [
    {
     "name": "stdout",
     "output_type": "stream",
     "text": [
      "C2 N3 2\n",
      "C4 C5 2\n",
      "C6 O6 2\n",
      "N7 C8 2\n"
     ]
    }
   ],
   "source": [
    "get_bonds(mol)"
   ]
  },
  {
   "cell_type": "markdown",
   "metadata": {},
   "source": [
    "##### uridine"
   ]
  },
  {
   "cell_type": "code",
   "execution_count": 13,
   "metadata": {
    "tags": []
   },
   "outputs": [
    {
     "data": {
      "image/svg+xml": [
       "<svg xmlns=\"http://www.w3.org/2000/svg\" xmlns:rdkit=\"http://www.rdkit.org/xml\" xmlns:xlink=\"http://www.w3.org/1999/xlink\" version=\"1.1\" baseProfile=\"full\" xml:space=\"preserve\" width=\"500px\" height=\"300px\" viewBox=\"0 0 500 300\">\n",
       "<!-- END OF HEADER -->\n",
       "<rect style=\"opacity:1.0;fill:#FFFFFF;stroke:none\" width=\"500.0\" height=\"300.0\" x=\"0.0\" y=\"0.0\"> </rect>\n",
       "<path class=\"bond-0 atom-0 atom-1\" d=\"M 264.8,246.0 L 246.1,218.5\" style=\"fill:none;fill-rule:evenodd;stroke:#000000;stroke-width:2.0px;stroke-linecap:butt;stroke-linejoin:miter;stroke-opacity:1\"/>\n",
       "<path class=\"bond-1 atom-0 atom-16\" d=\"M 264.8,246.0 L 243.7,260.1\" style=\"fill:none;fill-rule:evenodd;stroke:#000000;stroke-width:2.0px;stroke-linecap:butt;stroke-linejoin:miter;stroke-opacity:1\"/>\n",
       "<path class=\"bond-2 atom-0 atom-17\" d=\"M 264.8,246.0 L 266.3,271.1\" style=\"fill:none;fill-rule:evenodd;stroke:#000000;stroke-width:2.0px;stroke-linecap:butt;stroke-linejoin:miter;stroke-opacity:1\"/>\n",
       "<path class=\"bond-3 atom-0 atom-18\" d=\"M 264.8,246.0 L 291.3,244.4\" style=\"fill:none;fill-rule:evenodd;stroke:#000000;stroke-width:2.0px;stroke-linecap:butt;stroke-linejoin:miter;stroke-opacity:1\"/>\n",
       "<path class=\"bond-4 atom-1 atom-2\" d=\"M 246.1,218.5 L 256.9,212.5\" style=\"fill:none;fill-rule:evenodd;stroke:#000000;stroke-width:2.0px;stroke-linecap:butt;stroke-linejoin:miter;stroke-opacity:1\"/>\n",
       "<path class=\"bond-4 atom-1 atom-2\" d=\"M 256.9,212.5 L 267.6,206.5\" style=\"fill:none;fill-rule:evenodd;stroke:#FF0000;stroke-width:2.0px;stroke-linecap:butt;stroke-linejoin:miter;stroke-opacity:1\"/>\n",
       "<path class=\"bond-5 atom-1 atom-3\" d=\"M 246.1,218.5 L 221.7,195.9\" style=\"fill:none;fill-rule:evenodd;stroke:#000000;stroke-width:2.0px;stroke-linecap:butt;stroke-linejoin:miter;stroke-opacity:1\"/>\n",
       "<path class=\"bond-6 atom-1 atom-19\" d=\"M 246.1,218.5 L 230.4,235.6 L 227.1,231.8 Z\" style=\"fill:#000000;fill-rule:evenodd;fill-opacity:1;stroke:#000000;stroke-width:0.5px;stroke-linecap:butt;stroke-linejoin:miter;stroke-opacity:1;\"/>\n",
       "<path class=\"bond-7 atom-2 atom-7\" d=\"M 273.6,194.0 L 271.1,181.8\" style=\"fill:none;fill-rule:evenodd;stroke:#FF0000;stroke-width:2.0px;stroke-linecap:butt;stroke-linejoin:miter;stroke-opacity:1\"/>\n",
       "<path class=\"bond-7 atom-2 atom-7\" d=\"M 271.1,181.8 L 268.7,169.6\" style=\"fill:none;fill-rule:evenodd;stroke:#000000;stroke-width:2.0px;stroke-linecap:butt;stroke-linejoin:miter;stroke-opacity:1\"/>\n",
       "<path class=\"bond-8 atom-3 atom-4\" d=\"M 221.7,195.9 L 214.8,204.9\" style=\"fill:none;fill-rule:evenodd;stroke:#000000;stroke-width:2.0px;stroke-linecap:butt;stroke-linejoin:miter;stroke-opacity:1\"/>\n",
       "<path class=\"bond-8 atom-3 atom-4\" d=\"M 214.8,204.9 L 208.0,213.9\" style=\"fill:none;fill-rule:evenodd;stroke:#FF0000;stroke-width:2.0px;stroke-linecap:butt;stroke-linejoin:miter;stroke-opacity:1\"/>\n",
       "<path class=\"bond-9 atom-3 atom-5\" d=\"M 221.7,195.9 L 235.6,165.7\" style=\"fill:none;fill-rule:evenodd;stroke:#000000;stroke-width:2.0px;stroke-linecap:butt;stroke-linejoin:miter;stroke-opacity:1\"/>\n",
       "<path class=\"bond-10 atom-3 atom-20\" d=\"M 218.4,194.5 L 218.8,193.9\" style=\"fill:none;fill-rule:evenodd;stroke:#000000;stroke-width:1.0px;stroke-linecap:butt;stroke-linejoin:miter;stroke-opacity:1\"/>\n",
       "<path class=\"bond-10 atom-3 atom-20\" d=\"M 215.2,193.1 L 215.9,191.8\" style=\"fill:none;fill-rule:evenodd;stroke:#000000;stroke-width:1.0px;stroke-linecap:butt;stroke-linejoin:miter;stroke-opacity:1\"/>\n",
       "<path class=\"bond-10 atom-3 atom-20\" d=\"M 212.0,191.6 L 213.0,189.8\" style=\"fill:none;fill-rule:evenodd;stroke:#000000;stroke-width:1.0px;stroke-linecap:butt;stroke-linejoin:miter;stroke-opacity:1\"/>\n",
       "<path class=\"bond-10 atom-3 atom-20\" d=\"M 208.7,190.2 L 210.2,187.7\" style=\"fill:none;fill-rule:evenodd;stroke:#000000;stroke-width:1.0px;stroke-linecap:butt;stroke-linejoin:miter;stroke-opacity:1\"/>\n",
       "<path class=\"bond-10 atom-3 atom-20\" d=\"M 205.5,188.8 L 207.3,185.7\" style=\"fill:none;fill-rule:evenodd;stroke:#000000;stroke-width:1.0px;stroke-linecap:butt;stroke-linejoin:miter;stroke-opacity:1\"/>\n",
       "<path class=\"bond-10 atom-3 atom-20\" d=\"M 202.3,187.4 L 204.4,183.6\" style=\"fill:none;fill-rule:evenodd;stroke:#000000;stroke-width:1.0px;stroke-linecap:butt;stroke-linejoin:miter;stroke-opacity:1\"/>\n",
       "<path class=\"bond-10 atom-3 atom-20\" d=\"M 199.0,186.0 L 201.5,181.6\" style=\"fill:none;fill-rule:evenodd;stroke:#000000;stroke-width:1.0px;stroke-linecap:butt;stroke-linejoin:miter;stroke-opacity:1\"/>\n",
       "<path class=\"bond-11 atom-4 atom-21\" d=\"M 194.0,221.1 L 184.7,219.8\" style=\"fill:none;fill-rule:evenodd;stroke:#FF0000;stroke-width:2.0px;stroke-linecap:butt;stroke-linejoin:miter;stroke-opacity:1\"/>\n",
       "<path class=\"bond-11 atom-4 atom-21\" d=\"M 184.7,219.8 L 175.3,218.5\" style=\"fill:none;fill-rule:evenodd;stroke:#000000;stroke-width:2.0px;stroke-linecap:butt;stroke-linejoin:miter;stroke-opacity:1\"/>\n",
       "<path class=\"bond-12 atom-5 atom-6\" d=\"M 235.6,165.7 L 222.3,161.2\" style=\"fill:none;fill-rule:evenodd;stroke:#000000;stroke-width:2.0px;stroke-linecap:butt;stroke-linejoin:miter;stroke-opacity:1\"/>\n",
       "<path class=\"bond-12 atom-5 atom-6\" d=\"M 222.3,161.2 L 209.0,156.8\" style=\"fill:none;fill-rule:evenodd;stroke:#FF0000;stroke-width:2.0px;stroke-linecap:butt;stroke-linejoin:miter;stroke-opacity:1\"/>\n",
       "<path class=\"bond-13 atom-5 atom-7\" d=\"M 235.6,165.7 L 268.7,169.6\" style=\"fill:none;fill-rule:evenodd;stroke:#000000;stroke-width:2.0px;stroke-linecap:butt;stroke-linejoin:miter;stroke-opacity:1\"/>\n",
       "<path class=\"bond-14 atom-5 atom-22\" d=\"M 236.1,162.0 L 237.0,162.3\" style=\"fill:none;fill-rule:evenodd;stroke:#000000;stroke-width:1.0px;stroke-linecap:butt;stroke-linejoin:miter;stroke-opacity:1\"/>\n",
       "<path class=\"bond-14 atom-5 atom-22\" d=\"M 236.7,158.4 L 238.3,158.9\" style=\"fill:none;fill-rule:evenodd;stroke:#000000;stroke-width:1.0px;stroke-linecap:butt;stroke-linejoin:miter;stroke-opacity:1\"/>\n",
       "<path class=\"bond-14 atom-5 atom-22\" d=\"M 237.3,154.8 L 239.7,155.5\" style=\"fill:none;fill-rule:evenodd;stroke:#000000;stroke-width:1.0px;stroke-linecap:butt;stroke-linejoin:miter;stroke-opacity:1\"/>\n",
       "<path class=\"bond-14 atom-5 atom-22\" d=\"M 237.8,151.2 L 241.1,152.1\" style=\"fill:none;fill-rule:evenodd;stroke:#000000;stroke-width:1.0px;stroke-linecap:butt;stroke-linejoin:miter;stroke-opacity:1\"/>\n",
       "<path class=\"bond-14 atom-5 atom-22\" d=\"M 238.4,147.6 L 242.5,148.7\" style=\"fill:none;fill-rule:evenodd;stroke:#000000;stroke-width:1.0px;stroke-linecap:butt;stroke-linejoin:miter;stroke-opacity:1\"/>\n",
       "<path class=\"bond-14 atom-5 atom-22\" d=\"M 239.0,144.0 L 243.8,145.3\" style=\"fill:none;fill-rule:evenodd;stroke:#000000;stroke-width:1.0px;stroke-linecap:butt;stroke-linejoin:miter;stroke-opacity:1\"/>\n",
       "<path class=\"bond-15 atom-6 atom-23\" d=\"M 199.2,146.0 L 197.0,137.9\" style=\"fill:none;fill-rule:evenodd;stroke:#FF0000;stroke-width:2.0px;stroke-linecap:butt;stroke-linejoin:miter;stroke-opacity:1\"/>\n",
       "<path class=\"bond-15 atom-6 atom-23\" d=\"M 197.0,137.9 L 194.8,129.8\" style=\"fill:none;fill-rule:evenodd;stroke:#000000;stroke-width:2.0px;stroke-linecap:butt;stroke-linejoin:miter;stroke-opacity:1\"/>\n",
       "<path class=\"bond-16 atom-7 atom-8\" d=\"M 268.7,169.6 L 270.7,149.3\" style=\"fill:none;fill-rule:evenodd;stroke:#000000;stroke-width:2.0px;stroke-linecap:butt;stroke-linejoin:miter;stroke-opacity:1\"/>\n",
       "<path class=\"bond-16 atom-7 atom-8\" d=\"M 270.7,149.3 L 272.7,129.1\" style=\"fill:none;fill-rule:evenodd;stroke:#0000FF;stroke-width:2.0px;stroke-linecap:butt;stroke-linejoin:miter;stroke-opacity:1\"/>\n",
       "<path class=\"bond-17 atom-7 atom-24\" d=\"M 268.7,169.6 L 294.1,165.8 L 294.3,170.9 Z\" style=\"fill:#000000;fill-rule:evenodd;fill-opacity:1;stroke:#000000;stroke-width:0.5px;stroke-linecap:butt;stroke-linejoin:miter;stroke-opacity:1;\"/>\n",
       "<path class=\"bond-18 atom-8 atom-9\" d=\"M 267.0,117.1 L 255.9,110.6\" style=\"fill:none;fill-rule:evenodd;stroke:#0000FF;stroke-width:2.0px;stroke-linecap:butt;stroke-linejoin:miter;stroke-opacity:1\"/>\n",
       "<path class=\"bond-18 atom-8 atom-9\" d=\"M 255.9,110.6 L 244.8,104.1\" style=\"fill:none;fill-rule:evenodd;stroke:#000000;stroke-width:2.0px;stroke-linecap:butt;stroke-linejoin:miter;stroke-opacity:1\"/>\n",
       "<path class=\"bond-19 atom-8 atom-15\" d=\"M 279.9,117.2 L 291.2,110.7\" style=\"fill:none;fill-rule:evenodd;stroke:#0000FF;stroke-width:2.0px;stroke-linecap:butt;stroke-linejoin:miter;stroke-opacity:1\"/>\n",
       "<path class=\"bond-19 atom-8 atom-15\" d=\"M 291.2,110.7 L 302.4,104.2\" style=\"fill:none;fill-rule:evenodd;stroke:#000000;stroke-width:2.0px;stroke-linecap:butt;stroke-linejoin:miter;stroke-opacity:1\"/>\n",
       "<path class=\"bond-20 atom-9 atom-10\" d=\"M 244.8,101.2 L 235.3,106.7\" style=\"fill:none;fill-rule:evenodd;stroke:#000000;stroke-width:2.0px;stroke-linecap:butt;stroke-linejoin:miter;stroke-opacity:1\"/>\n",
       "<path class=\"bond-20 atom-9 atom-10\" d=\"M 235.3,106.7 L 225.7,112.3\" style=\"fill:none;fill-rule:evenodd;stroke:#FF0000;stroke-width:2.0px;stroke-linecap:butt;stroke-linejoin:miter;stroke-opacity:1\"/>\n",
       "<path class=\"bond-20 atom-9 atom-10\" d=\"M 247.3,105.6 L 237.8,111.1\" style=\"fill:none;fill-rule:evenodd;stroke:#000000;stroke-width:2.0px;stroke-linecap:butt;stroke-linejoin:miter;stroke-opacity:1\"/>\n",
       "<path class=\"bond-20 atom-9 atom-10\" d=\"M 237.8,111.1 L 228.3,116.6\" style=\"fill:none;fill-rule:evenodd;stroke:#FF0000;stroke-width:2.0px;stroke-linecap:butt;stroke-linejoin:miter;stroke-opacity:1\"/>\n",
       "<path class=\"bond-21 atom-9 atom-11\" d=\"M 244.8,104.1 L 244.8,91.5\" style=\"fill:none;fill-rule:evenodd;stroke:#000000;stroke-width:2.0px;stroke-linecap:butt;stroke-linejoin:miter;stroke-opacity:1\"/>\n",
       "<path class=\"bond-21 atom-9 atom-11\" d=\"M 244.8,91.5 L 244.8,78.9\" style=\"fill:none;fill-rule:evenodd;stroke:#0000FF;stroke-width:2.0px;stroke-linecap:butt;stroke-linejoin:miter;stroke-opacity:1\"/>\n",
       "<path class=\"bond-22 atom-11 atom-12\" d=\"M 251.3,67.0 L 262.5,60.6\" style=\"fill:none;fill-rule:evenodd;stroke:#0000FF;stroke-width:2.0px;stroke-linecap:butt;stroke-linejoin:miter;stroke-opacity:1\"/>\n",
       "<path class=\"bond-22 atom-11 atom-12\" d=\"M 262.5,60.6 L 273.7,54.1\" style=\"fill:none;fill-rule:evenodd;stroke:#000000;stroke-width:2.0px;stroke-linecap:butt;stroke-linejoin:miter;stroke-opacity:1\"/>\n",
       "<path class=\"bond-23 atom-11 atom-25\" d=\"M 238.3,67.1 L 230.4,62.6\" style=\"fill:none;fill-rule:evenodd;stroke:#0000FF;stroke-width:2.0px;stroke-linecap:butt;stroke-linejoin:miter;stroke-opacity:1\"/>\n",
       "<path class=\"bond-23 atom-11 atom-25\" d=\"M 230.4,62.6 L 222.6,58.1\" style=\"fill:none;fill-rule:evenodd;stroke:#000000;stroke-width:2.0px;stroke-linecap:butt;stroke-linejoin:miter;stroke-opacity:1\"/>\n",
       "<path class=\"bond-24 atom-12 atom-13\" d=\"M 276.3,55.6 L 276.2,42.4\" style=\"fill:none;fill-rule:evenodd;stroke:#000000;stroke-width:2.0px;stroke-linecap:butt;stroke-linejoin:miter;stroke-opacity:1\"/>\n",
       "<path class=\"bond-24 atom-12 atom-13\" d=\"M 276.2,42.4 L 276.1,29.2\" style=\"fill:none;fill-rule:evenodd;stroke:#FF0000;stroke-width:2.0px;stroke-linecap:butt;stroke-linejoin:miter;stroke-opacity:1\"/>\n",
       "<path class=\"bond-24 atom-12 atom-13\" d=\"M 271.2,55.6 L 271.1,42.4\" style=\"fill:none;fill-rule:evenodd;stroke:#000000;stroke-width:2.0px;stroke-linecap:butt;stroke-linejoin:miter;stroke-opacity:1\"/>\n",
       "<path class=\"bond-24 atom-12 atom-13\" d=\"M 271.1,42.4 L 271.0,29.3\" style=\"fill:none;fill-rule:evenodd;stroke:#FF0000;stroke-width:2.0px;stroke-linecap:butt;stroke-linejoin:miter;stroke-opacity:1\"/>\n",
       "<path class=\"bond-25 atom-12 atom-14\" d=\"M 273.7,54.1 L 302.6,70.8\" style=\"fill:none;fill-rule:evenodd;stroke:#000000;stroke-width:2.0px;stroke-linecap:butt;stroke-linejoin:miter;stroke-opacity:1\"/>\n",
       "<path class=\"bond-26 atom-14 atom-15\" d=\"M 302.6,70.8 L 302.4,104.2\" style=\"fill:none;fill-rule:evenodd;stroke:#000000;stroke-width:2.0px;stroke-linecap:butt;stroke-linejoin:miter;stroke-opacity:1\"/>\n",
       "<path class=\"bond-26 atom-14 atom-15\" d=\"M 297.5,73.7 L 297.4,101.3\" style=\"fill:none;fill-rule:evenodd;stroke:#000000;stroke-width:2.0px;stroke-linecap:butt;stroke-linejoin:miter;stroke-opacity:1\"/>\n",
       "<path class=\"bond-27 atom-14 atom-26\" d=\"M 302.6,70.8 L 324.6,57.9\" style=\"fill:none;fill-rule:evenodd;stroke:#000000;stroke-width:2.0px;stroke-linecap:butt;stroke-linejoin:miter;stroke-opacity:1\"/>\n",
       "<path class=\"bond-28 atom-15 atom-27\" d=\"M 302.4,104.2 L 324.7,116.9\" style=\"fill:none;fill-rule:evenodd;stroke:#000000;stroke-width:2.0px;stroke-linecap:butt;stroke-linejoin:miter;stroke-opacity:1\"/>\n",
       "<path d=\"M 245.3,104.4 L 244.8,104.1 L 244.8,103.5\" style=\"fill:none;stroke:#000000;stroke-width:2.0px;stroke-linecap:butt;stroke-linejoin:miter;stroke-opacity:1;\"/>\n",
       "<path d=\"M 273.2,54.4 L 273.7,54.1 L 275.2,55.0\" style=\"fill:none;stroke:#000000;stroke-width:2.0px;stroke-linecap:butt;stroke-linejoin:miter;stroke-opacity:1;\"/>\n",
       "<path class=\"atom-2\" d=\"M 268.7 202.3 Q 268.7 198.9, 270.4 197.0 Q 272.1 195.1, 275.2 195.1 Q 278.4 195.1, 280.1 197.0 Q 281.7 198.9, 281.7 202.3 Q 281.7 205.7, 280.0 207.7 Q 278.3 209.6, 275.2 209.6 Q 272.1 209.6, 270.4 207.7 Q 268.7 205.8, 268.7 202.3 M 275.2 208.0 Q 277.4 208.0, 278.6 206.6 Q 279.7 205.1, 279.7 202.3 Q 279.7 199.5, 278.6 198.1 Q 277.4 196.7, 275.2 196.7 Q 273.1 196.7, 271.9 198.1 Q 270.7 199.5, 270.7 202.3 Q 270.7 205.2, 271.9 206.6 Q 273.1 208.0, 275.2 208.0 \" fill=\"#FF0000\"/>\n",
       "<path class=\"atom-4\" d=\"M 195.2 222.2 Q 195.2 218.8, 196.8 216.9 Q 198.5 215.0, 201.7 215.0 Q 204.8 215.0, 206.5 216.9 Q 208.1 218.8, 208.1 222.2 Q 208.1 225.6, 206.4 227.6 Q 204.7 229.5, 201.7 229.5 Q 198.5 229.5, 196.8 227.6 Q 195.2 225.6, 195.2 222.2 M 201.7 227.9 Q 203.8 227.9, 205.0 226.5 Q 206.1 225.0, 206.1 222.2 Q 206.1 219.4, 205.0 218.0 Q 203.8 216.6, 201.7 216.6 Q 199.5 216.6, 198.3 218.0 Q 197.2 219.4, 197.2 222.2 Q 197.2 225.0, 198.3 226.5 Q 199.5 227.9, 201.7 227.9 \" fill=\"#FF0000\"/>\n",
       "<path class=\"atom-6\" d=\"M 194.9 154.3 Q 194.9 150.9, 196.6 149.0 Q 198.3 147.1, 201.4 147.1 Q 204.6 147.1, 206.2 149.0 Q 207.9 150.9, 207.9 154.3 Q 207.9 157.7, 206.2 159.7 Q 204.5 161.6, 201.4 161.6 Q 198.3 161.6, 196.6 159.7 Q 194.9 157.8, 194.9 154.3 M 201.4 160.0 Q 203.6 160.0, 204.7 158.6 Q 205.9 157.1, 205.9 154.3 Q 205.9 151.5, 204.7 150.1 Q 203.6 148.7, 201.4 148.7 Q 199.3 148.7, 198.1 150.1 Q 196.9 151.5, 196.9 154.3 Q 196.9 157.2, 198.1 158.6 Q 199.3 160.0, 201.4 160.0 \" fill=\"#FF0000\"/>\n",
       "<path class=\"atom-8\" d=\"M 270.3 113.8 L 275.0 121.3 Q 275.4 122.1, 276.2 123.4 Q 276.9 124.7, 276.9 124.8 L 276.9 113.8 L 278.8 113.8 L 278.8 128.0 L 276.9 128.0 L 271.9 119.8 Q 271.3 118.8, 270.7 117.7 Q 270.1 116.6, 269.9 116.3 L 269.9 128.0 L 268.1 128.0 L 268.1 113.8 L 270.3 113.8 \" fill=\"#0000FF\"/>\n",
       "<path class=\"atom-10\" d=\"M 212.9 118.9 Q 212.9 115.5, 214.6 113.6 Q 216.3 111.7, 219.4 111.7 Q 222.5 111.7, 224.2 113.6 Q 225.9 115.5, 225.9 118.9 Q 225.9 122.3, 224.2 124.3 Q 222.5 126.2, 219.4 126.2 Q 216.3 126.2, 214.6 124.3 Q 212.9 122.4, 212.9 118.9 M 219.4 124.6 Q 221.6 124.6, 222.7 123.2 Q 223.9 121.7, 223.9 118.9 Q 223.9 116.1, 222.7 114.7 Q 221.6 113.3, 219.4 113.3 Q 217.3 113.3, 216.1 114.7 Q 214.9 116.1, 214.9 118.9 Q 214.9 121.8, 216.1 123.2 Q 217.3 124.6, 219.4 124.6 \" fill=\"#FF0000\"/>\n",
       "<path class=\"atom-11\" d=\"M 241.7 63.7 L 246.3 71.2 Q 246.8 71.9, 247.5 73.2 Q 248.3 74.6, 248.3 74.7 L 248.3 63.7 L 250.2 63.7 L 250.2 77.8 L 248.2 77.8 L 243.3 69.6 Q 242.7 68.7, 242.1 67.6 Q 241.5 66.5, 241.3 66.1 L 241.3 77.8 L 239.5 77.8 L 239.5 63.7 L 241.7 63.7 \" fill=\"#0000FF\"/>\n",
       "<path class=\"atom-13\" d=\"M 267.0 20.8 Q 267.0 17.4, 268.7 15.5 Q 270.3 13.6, 273.5 13.6 Q 276.6 13.6, 278.3 15.5 Q 280.0 17.4, 280.0 20.8 Q 280.0 24.3, 278.3 26.2 Q 276.6 28.2, 273.5 28.2 Q 270.4 28.2, 268.7 26.2 Q 267.0 24.3, 267.0 20.8 M 273.5 26.6 Q 275.6 26.6, 276.8 25.1 Q 278.0 23.7, 278.0 20.8 Q 278.0 18.0, 276.8 16.7 Q 275.6 15.2, 273.5 15.2 Q 271.3 15.2, 270.1 16.6 Q 269.0 18.0, 269.0 20.8 Q 269.0 23.7, 270.1 25.1 Q 271.3 26.6, 273.5 26.6 \" fill=\"#FF0000\"/>\n",
       "<path class=\"atom-16\" d=\"M 231.5 257.5 L 233.4 257.5 L 233.4 263.5 L 240.6 263.5 L 240.6 257.5 L 242.5 257.5 L 242.5 271.6 L 240.6 271.6 L 240.6 265.1 L 233.4 265.1 L 233.4 271.6 L 231.5 271.6 L 231.5 257.5 \" fill=\"#000000\"/>\n",
       "<path class=\"atom-17\" d=\"M 261.3 272.2 L 263.2 272.2 L 263.2 278.2 L 270.4 278.2 L 270.4 272.2 L 272.3 272.2 L 272.3 286.4 L 270.4 286.4 L 270.4 279.8 L 263.2 279.8 L 263.2 286.4 L 261.3 286.4 L 261.3 272.2 \" fill=\"#000000\"/>\n",
       "<path class=\"atom-18\" d=\"M 292.4 236.9 L 294.3 236.9 L 294.3 242.9 L 301.5 242.9 L 301.5 236.9 L 303.4 236.9 L 303.4 251.0 L 301.5 251.0 L 301.5 244.5 L 294.3 244.5 L 294.3 251.0 L 292.4 251.0 L 292.4 236.9 \" fill=\"#000000\"/>\n",
       "<path class=\"atom-19\" d=\"M 215.5 233.5 L 217.4 233.5 L 217.4 239.5 L 224.6 239.5 L 224.6 233.5 L 226.5 233.5 L 226.5 247.6 L 224.6 247.6 L 224.6 241.1 L 217.4 241.1 L 217.4 247.6 L 215.5 247.6 L 215.5 233.5 \" fill=\"#000000\"/>\n",
       "<path class=\"atom-20\" d=\"M 187.0 172.3 L 188.9 172.3 L 188.9 178.3 L 196.1 178.3 L 196.1 172.3 L 198.0 172.3 L 198.0 186.4 L 196.1 186.4 L 196.1 179.9 L 188.9 179.9 L 188.9 186.4 L 187.0 186.4 L 187.0 172.3 \" fill=\"#000000\"/>\n",
       "<path class=\"atom-21\" d=\"M 163.1 210.6 L 165.0 210.6 L 165.0 216.6 L 172.3 216.6 L 172.3 210.6 L 174.2 210.6 L 174.2 224.7 L 172.3 224.7 L 172.3 218.2 L 165.0 218.2 L 165.0 224.7 L 163.1 224.7 L 163.1 210.6 \" fill=\"#000000\"/>\n",
       "<path class=\"atom-22\" d=\"M 238.4 128.3 L 240.4 128.3 L 240.4 134.3 L 247.6 134.3 L 247.6 128.3 L 249.5 128.3 L 249.5 142.4 L 247.6 142.4 L 247.6 135.9 L 240.4 135.9 L 240.4 142.4 L 238.4 142.4 L 238.4 128.3 \" fill=\"#000000\"/>\n",
       "<path class=\"atom-23\" d=\"M 187.1 114.5 L 189.0 114.5 L 189.0 120.6 L 196.2 120.6 L 196.2 114.5 L 198.1 114.5 L 198.1 128.7 L 196.2 128.7 L 196.2 122.1 L 189.0 122.1 L 189.0 128.7 L 187.1 128.7 L 187.1 114.5 \" fill=\"#000000\"/>\n",
       "<path class=\"atom-24\" d=\"M 296.4 160.9 L 298.3 160.9 L 298.3 166.9 L 305.6 166.9 L 305.6 160.9 L 307.5 160.9 L 307.5 175.1 L 305.6 175.1 L 305.6 168.5 L 298.3 168.5 L 298.3 175.1 L 296.4 175.1 L 296.4 160.9 \" fill=\"#000000\"/>\n",
       "<path class=\"atom-25\" d=\"M 210.4 47.2 L 212.3 47.2 L 212.3 53.2 L 219.5 53.2 L 219.5 47.2 L 221.4 47.2 L 221.4 61.4 L 219.5 61.4 L 219.5 54.8 L 212.3 54.8 L 212.3 61.4 L 210.4 61.4 L 210.4 47.2 \" fill=\"#000000\"/>\n",
       "<path class=\"atom-26\" d=\"M 325.7 46.9 L 327.6 46.9 L 327.6 52.9 L 334.9 52.9 L 334.9 46.9 L 336.8 46.9 L 336.8 61.0 L 334.9 61.0 L 334.9 54.5 L 327.6 54.5 L 327.6 61.0 L 325.7 61.0 L 325.7 46.9 \" fill=\"#000000\"/>\n",
       "<path class=\"atom-27\" d=\"M 325.8 113.6 L 327.7 113.6 L 327.7 119.6 L 335.0 119.6 L 335.0 113.6 L 336.9 113.6 L 336.9 127.7 L 335.0 127.7 L 335.0 121.2 L 327.7 121.2 L 327.7 127.7 L 325.8 127.7 L 325.8 113.6 \" fill=\"#000000\"/>\n",
       "</svg>"
      ],
      "text/plain": [
       "<IPython.core.display.SVG object>"
      ]
     },
     "execution_count": 13,
     "metadata": {},
     "output_type": "execute_result"
    }
   ],
   "source": [
    "traj = mdtraj.load(\"../cluster/traj_cls_u.nc\", top=\"../md/crd/u.pdb\")\n",
    "unique_molecules = Molecule.from_file(\"../md/crd/u.sdf\")\n",
    "topology = Topology.from_openmm(traj[0].topology.to_openmm(), unique_molecules=[unique_molecules])\n",
    "mol = Molecule.from_topology(topology)\n",
    "mol.visualize()"
   ]
  },
  {
   "cell_type": "code",
   "execution_count": 14,
   "metadata": {
    "tags": []
   },
   "outputs": [
    {
     "data": {
      "application/vnd.jupyter.widget-view+json": {
       "model_id": "452c43a85afa4c99858ddc43eb074565",
       "version_major": 2,
       "version_minor": 0
      },
      "text/plain": [
       "NGLWidget()"
      ]
     },
     "metadata": {},
     "output_type": "display_data"
    }
   ],
   "source": [
    "mol"
   ]
  },
  {
   "cell_type": "code",
   "execution_count": 15,
   "metadata": {
    "tags": []
   },
   "outputs": [
    {
     "name": "stdout",
     "output_type": "stream",
     "text": [
      "C2 O2 2\n",
      "C4 O4 2\n",
      "C5 C6 2\n"
     ]
    }
   ],
   "source": [
    "get_bonds(mol)"
   ]
  },
  {
   "cell_type": "markdown",
   "metadata": {},
   "source": [
    "### Data preparation"
   ]
  },
  {
   "cell_type": "code",
   "execution_count": 16,
   "metadata": {
    "tags": []
   },
   "outputs": [],
   "source": [
    "files = glob.glob(\"../cluster/traj_cls_*.nc\")"
   ]
  },
  {
   "cell_type": "code",
   "execution_count": 18,
   "metadata": {},
   "outputs": [],
   "source": [
    "# convert mdtraj topology to openmm topology, and covert it to openff topology\n",
    "from openmm import unit\n",
    "\n",
    "mols = []\n",
    "for file in files:\n",
    "    name = file.split('/')[-1].split('.')[0][-1]\n",
    "    traj = mdtraj.load(file, top=f\"../md/crd/{name}.pdb\")\n",
    "    unique_mols = Molecule.from_file(f\"../md/crd/{name}.sdf\")\n",
    "    \n",
    "    for i in range(len(traj)):\n",
    "        if i == 0:\n",
    "            top = Topology.from_openmm(traj[0].topology.to_openmm(), unique_molecules=[unique_mols])\n",
    "            mol = Molecule.from_topology(top)\n",
    "        else:\n",
    "            xyz = np.array(traj.openmm_positions(i)._value)\n",
    "            mol.add_conformer(unit.Quantity(xyz, traj.openmm_positions(i).unit))\n",
    "    mols.append(mol)"
   ]
  },
  {
   "cell_type": "code",
   "execution_count": 19,
   "metadata": {
    "tags": []
   },
   "outputs": [
    {
     "name": "stdout",
     "output_type": "stream",
     "text": [
      "4\n"
     ]
    }
   ],
   "source": [
    "print(len(mols))"
   ]
  },
  {
   "cell_type": "code",
   "execution_count": 20,
   "metadata": {
    "tags": []
   },
   "outputs": [
    {
     "data": {
      "application/vnd.jupyter.widget-view+json": {
       "model_id": "a5a01ecb3ee64bae8e1e83cba48eb1e1",
       "version_major": 2,
       "version_minor": 0
      },
      "text/plain": [
       "NGLWidget(max_frame=99)"
      ]
     },
     "metadata": {},
     "output_type": "display_data"
    }
   ],
   "source": [
    "mols[0]"
   ]
  },
  {
   "cell_type": "code",
   "execution_count": 21,
   "metadata": {},
   "outputs": [],
   "source": [
    "factory = BasicDatasetFactory(\n",
    "        driver=DriverEnum.gradient, \n",
    "        qc_specifications = {\n",
    "            'default': QCSpec(\n",
    "                method='b3lyp-d3bj', \n",
    "                basis='dzvp', \n",
    "                program='psi4', \n",
    "                spec_name='default', \n",
    "                spec_description='Standard OpenFF optimization quantum chemistry specification', \n",
    "                store_wavefunction=\"none\", \n",
    "                implicit_solvent=None, \n",
    "                maxiter=200, \n",
    "                scf_properties=[SCFProperties.Dipole, SCFProperties.Quadrupole], \n",
    "        ), \n",
    "    }\n",
    ")"
   ]
  },
  {
   "cell_type": "code",
   "execution_count": 22,
   "metadata": {
    "tags": []
   },
   "outputs": [
    {
     "name": "stderr",
     "output_type": "stream",
     "text": [
      "Deduplication                 : 100%|█████████████| 4/4 [00:00<00:00, 10.48it/s]\n",
      "Preparation                   : 100%|█████████████| 4/4 [00:05<00:00,  1.43s/it]\n"
     ]
    }
   ],
   "source": [
    "dataset = factory.create_dataset(dataset_name=\"RNA Nucleoside Single Point Dataset v1.0\", \n",
    "                                 molecules=mols, \n",
    "                                 tagline=\"QM dataset for ML\", \n",
    "                                 description=\"This is a single point energy calculations of RNA nucleosides without the O5' hydroxyl atom. Data generation details can be at xxxx.\")"
   ]
  },
  {
   "cell_type": "code",
   "execution_count": 23,
   "metadata": {
    "tags": []
   },
   "outputs": [
    {
     "name": "stdout",
     "output_type": "stream",
     "text": [
      "Number of unique molecules        4\n",
      "Number of filtered molecules      0\n",
      "Number of conformers              400\n",
      "Number of conformers min mean max 100 100.00 100\n",
      "Mean molecular weight: 243.48\n",
      "Max molecular weight: 267.25\n",
      "Charges: [0.0]\n"
     ]
    }
   ],
   "source": [
    "confs = np.array([len(mol.conformers) for mol in dataset.molecules])\n",
    "\n",
    "print(\"Number of unique molecules       \", dataset.n_molecules)\n",
    "print(\"Number of filtered molecules     \", dataset.n_filtered)\n",
    "print(\"Number of conformers             \", dataset.n_records)\n",
    "print(\"Number of conformers min mean max\", confs.min(), \"{:6.2f}\".format(confs.mean()), confs.max())\n",
    "\n",
    "\n",
    "from rdkit.Chem import Descriptors\n",
    "masses = []\n",
    "for molecule in dataset.molecules:\n",
    "    rdmol = molecule.to_rdkit()\n",
    "    mass = Descriptors.MolWt(rdmol)\n",
    "    masses.append(mass)\n",
    "\n",
    "print(f'Mean molecular weight: {np.mean(np.array(masses)):.2f}')\n",
    "print(f'Max molecular weight: {np.max(np.array(masses)):.2f}')\n",
    "print(\"Charges:\", sorted(set(float(m.total_charge/m.total_charge.units) for m in dataset.molecules)))"
   ]
  },
  {
   "cell_type": "code",
   "execution_count": 24,
   "metadata": {
    "tags": []
   },
   "outputs": [],
   "source": [
    "dataset.metadata.submitter = 'Kenichiro Takaba'\n",
    "#dataset.metadata.long_description_url = 'xxxx'"
   ]
  },
  {
   "cell_type": "code",
   "execution_count": 25,
   "metadata": {
    "tags": []
   },
   "outputs": [
    {
     "name": "stdout",
     "output_type": "stream",
     "text": [
      "{'collection_type': 'DataSet',\n",
      " 'creation_date': datetime.date(2023, 3, 6),\n",
      " 'dataset_name': 'RNA Nucleoside Single Point Dataset v1.0',\n",
      " 'elements': {'O', 'C', 'N', 'H'},\n",
      " 'long_description': 'This is a single point energy calculations of RNA '\n",
      "                     \"nucleosides without the O5' hydroxyl atom. Data \"\n",
      "                     'generation details can be at xxxx.',\n",
      " 'long_description_url': None,\n",
      " 'short_description': 'QM dataset for ML',\n",
      " 'submitter': 'Kenichiro Takaba'}\n"
     ]
    }
   ],
   "source": [
    "pprint(dataset.metadata.dict())"
   ]
  },
  {
   "cell_type": "code",
   "execution_count": 26,
   "metadata": {
    "tags": []
   },
   "outputs": [
    {
     "name": "stdout",
     "output_type": "stream",
     "text": [
      "Spec: default\n",
      "{'basis': 'dzvp',\n",
      " 'implicit_solvent': None,\n",
      " 'keywords': None,\n",
      " 'maxiter': 200,\n",
      " 'method': 'b3lyp-d3bj',\n",
      " 'program': 'psi4',\n",
      " 'scf_properties': ['dipole', 'quadrupole'],\n",
      " 'spec_description': 'Standard OpenFF optimization quantum chemistry '\n",
      "                     'specification',\n",
      " 'spec_name': 'default',\n",
      " 'store_wavefunction': 'none'}\n"
     ]
    }
   ],
   "source": [
    "for spec, obj in dataset.qc_specifications.items():\n",
    "    print(\"Spec:\", spec)\n",
    "    pprint(obj.dict())"
   ]
  },
  {
   "cell_type": "code",
   "execution_count": 27,
   "metadata": {
    "tags": []
   },
   "outputs": [
    {
     "name": "stdout",
     "output_type": "stream",
     "text": [
      "{'default': QCSpec(method='b3lyp-d3bj', basis='dzvp', program='psi4', spec_name='default', spec_description='Standard OpenFF optimization quantum chemistry specification', store_wavefunction=<WavefunctionProtocolEnum.none: 'none'>, implicit_solvent=None, maxiter=200, scf_properties=[<SCFProperties.Dipole: 'dipole'>, <SCFProperties.Quadrupole: 'quadrupole'>], keywords=None)}\n"
     ]
    }
   ],
   "source": [
    "pprint(dataset.qc_specifications)"
   ]
  },
  {
   "cell_type": "markdown",
   "metadata": {
    "pycharm": {
     "name": "#%% md\n"
    }
   },
   "source": [
    "#### Export the dataset"
   ]
  },
  {
   "cell_type": "code",
   "execution_count": 28,
   "metadata": {
    "pycharm": {
     "name": "#%%\n"
    },
    "tags": []
   },
   "outputs": [],
   "source": [
    "dataset.export_dataset(\"dataset.json.bz2\")\n",
    "dataset.molecules_to_file(\"dataset.smi\", \"smi\")"
   ]
  },
  {
   "cell_type": "code",
   "execution_count": 34,
   "metadata": {
    "tags": []
   },
   "outputs": [],
   "source": [
    "try:\n",
    "    dataset.visualize('dataset.pdf')\n",
    "except:\n",
    "    from rdkit.Chem import Draw\n",
    "    from rdkit.Chem.Draw import IPythonConsole\n",
    "    #IPythonConsole.drawOptions.minFontSize=12\n",
    "\n",
    "    rdmols = [ mol.to_rdkit() for mol in mols ]\n",
    "    img = Draw.MolsToGridImage(rdmols, molsPerRow=5, subImgSize=(500,500), returnPNG=False, maxMols=99999)\n",
    "    img = img.convert('RGB')\n",
    "    img.save(\"dataset.pdf\")"
   ]
  },
  {
   "cell_type": "code",
   "execution_count": null,
   "metadata": {},
   "outputs": [],
   "source": []
  }
 ],
 "metadata": {
  "kernelspec": {
   "display_name": "Python 3 (ipykernel)",
   "language": "python",
   "name": "python3"
  },
  "language_info": {
   "codemirror_mode": {
    "name": "ipython",
    "version": 3
   },
   "file_extension": ".py",
   "mimetype": "text/x-python",
   "name": "python",
   "nbconvert_exporter": "python",
   "pygments_lexer": "ipython3",
   "version": "3.9.16"
  }
 },
 "nbformat": 4,
 "nbformat_minor": 4
}
